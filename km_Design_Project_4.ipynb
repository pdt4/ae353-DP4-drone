{
 "cells": [
  {
   "cell_type": "markdown",
   "id": "93d1a34f",
   "metadata": {},
   "source": [
    "# DP4: Control of a drone\n",
    "### Patrick Thornton, Krishna Modi"
   ]
  },
  {
   "cell_type": "markdown",
   "id": "c6b9e3e3",
   "metadata": {},
   "source": [
    "### Import necessary libraries and configure the notebook:"
   ]
  },
  {
   "cell_type": "code",
   "execution_count": 1,
   "id": "6c4f6315",
   "metadata": {},
   "outputs": [],
   "source": [
    "#all necessary imports\n",
    "import os\n",
    "import sympy as sym\n",
    "import time\n",
    "import numpy as np\n",
    "from scipy import linalg\n",
    "import matplotlib.pyplot as plt\n",
    "import secrets\n",
    "import importlib\n",
    "import ae353_drone\n",
    "importlib.reload(ae353_drone)\n",
    "\n",
    "# library used to print LaTeX-formatted text\n",
    "from sympy.physics import mechanics\n",
    "mechanics.init_vprinting()\n",
    "\n",
    "# Suppress the use of scientific notation when printing small numbers\n",
    "np.set_printoptions(suppress=True)"
   ]
  },
  {
   "cell_type": "markdown",
   "id": "ca6416a4",
   "metadata": {},
   "source": [
    "Create an instance of the Simulator using the `Simulator` class:\\\n",
    "NOTE: RUN THIS CELL ONLY ONCE - Restart the kernel to create a new simulator"
   ]
  },
  {
   "cell_type": "markdown",
   "id": "ed442173",
   "metadata": {},
   "source": [
    "Create and print a seed for the random number generator so it is possible to reproduce the results."
   ]
  },
  {
   "cell_type": "code",
   "execution_count": 2,
   "id": "9585b3cd",
   "metadata": {},
   "outputs": [
    {
     "name": "stdout",
     "output_type": "stream",
     "text": [
      "2373788400\n"
     ]
    }
   ],
   "source": [
    "seed = secrets.randbits(32)\n",
    "print(seed)"
   ]
  },
  {
   "cell_type": "markdown",
   "id": "18a15709",
   "metadata": {},
   "source": [
    "Create simulator with seed."
   ]
  },
  {
   "cell_type": "code",
   "execution_count": 3,
   "id": "35c1e0af",
   "metadata": {},
   "outputs": [],
   "source": [
    "simulator = ae353_drone.Simulator(\n",
    "    display=False,\n",
    "    seed=seed,\n",
    ")"
   ]
  },
  {
   "cell_type": "code",
   "execution_count": 4,
   "id": "0016a53c",
   "metadata": {},
   "outputs": [],
   "source": [
    "simulator.set_rules(\n",
    "    error_on_print=False,    # <-- allow print statements in controller code\n",
    "    error_on_timeout=False,  # <-- allow long runtimes in controller code\n",
    ")"
   ]
  },
  {
   "cell_type": "markdown",
   "id": "becf9036",
   "metadata": {},
   "source": [
    "## Define equations of motion for the dynamic model and construct $f$\n",
    "\n",
    "The equations of motion have this form:\n",
    "\n",
    "$$\\begin{bmatrix} \\dot{p}_x \\\\ \\dot{p}_y \\\\ \\dot{p}_z \\\\ \\dot{\\psi} \\\\ \\dot{\\theta} \\\\ \\dot{\\phi} \\\\ \\dot{v}_x \\\\ \\dot{v}_y \\\\ \\dot{v}_z \\\\ \\dot{w}_x \\\\ \\dot{w}_y \\\\ \\dot{w}_z \\end{bmatrix} = f\\left(p_x, p_y, p_z, \\psi, \\theta, \\phi, v_x, v_y, v_z, w_x, w_y, w_z, \\tau_x, \\tau_y, \\tau_z, f_z \\right)$$"
   ]
  },
  {
   "cell_type": "markdown",
   "id": "1f2377c6",
   "metadata": {},
   "source": [
    "Define physical parameters."
   ]
  },
  {
   "cell_type": "code",
   "execution_count": 5,
   "id": "2bee635f",
   "metadata": {},
   "outputs": [],
   "source": [
    "params = {\n",
    "    'm': 0.5,\n",
    "    'Jx': 0.0023,\n",
    "    'Jy': 0.0023,\n",
    "    'Jz': 0.0040,\n",
    "    'l': 0.175,\n",
    "    'g': 9.81,\n",
    "}"
   ]
  },
  {
   "cell_type": "markdown",
   "id": "55998b80",
   "metadata": {},
   "source": [
    "Derive the equations of motion:"
   ]
  },
  {
   "cell_type": "code",
   "execution_count": 6,
   "id": "006377d7",
   "metadata": {},
   "outputs": [],
   "source": [
    "# components of position (meters)\n",
    "p_x, p_y, p_z = sym.symbols('p_x, p_y, p_z')\n",
    "\n",
    "# yaw, pitch, roll angles (radians)\n",
    "psi, theta, phi = sym.symbols('psi, theta, phi')\n",
    "\n",
    "# components of linear velocity (meters / second)\n",
    "v_x, v_y, v_z = sym.symbols('v_x, v_y, v_z')\n",
    "v_in_body = sym.Matrix([v_x, v_y, v_z])\n",
    "\n",
    "# components of angular velocity (radians / second)\n",
    "w_x, w_y, w_z = sym.symbols('w_x, w_y, w_z')\n",
    "w_in_body = sym.Matrix([w_x, w_y, w_z])\n",
    "\n",
    "# components of net rotor torque\n",
    "tau_x, tau_y, tau_z = sym.symbols('tau_x, tau_y, tau_z')\n",
    "\n",
    "# net rotor force\n",
    "f_z = sym.symbols('f_z')\n",
    "\n",
    "# parameters\n",
    "m = sym.nsimplify(params['m'])\n",
    "Jx = sym.nsimplify(params['Jx'])\n",
    "Jy = sym.nsimplify(params['Jy'])\n",
    "Jz = sym.nsimplify(params['Jz'])\n",
    "l = sym.nsimplify(params['l'])\n",
    "g = sym.nsimplify(params['g'])\n",
    "J = sym.diag(Jx, Jy, Jz)\n",
    "\n",
    "# rotation matrices\n",
    "Rz = sym.Matrix([[sym.cos(psi), -sym.sin(psi), 0], [sym.sin(psi), sym.cos(psi), 0], [0, 0, 1]])\n",
    "Ry = sym.Matrix([[sym.cos(theta), 0, sym.sin(theta)], [0, 1, 0], [-sym.sin(theta), 0, sym.cos(theta)]])\n",
    "Rx = sym.Matrix([[1, 0, 0], [0, sym.cos(phi), -sym.sin(phi)], [0, sym.sin(phi), sym.cos(phi)]])\n",
    "R_body_in_world = Rz @ Ry @ Rx\n",
    "\n",
    "# angular velocity to angular rates\n",
    "ex = sym.Matrix([[1], [0], [0]])\n",
    "ey = sym.Matrix([[0], [1], [0]])\n",
    "ez = sym.Matrix([[0], [0], [1]])\n",
    "M = sym.simplify(sym.Matrix.hstack((Ry @ Rx).T @ ez, Rx.T @ ey, ex).inv(), full=True)\n",
    "\n",
    "# applied forces\n",
    "f_in_body = R_body_in_world.T @ sym.Matrix([[0], [0], [-m * g]]) + sym.Matrix([[0], [0], [f_z]])\n",
    "\n",
    "# applied torques\n",
    "tau_in_body = sym.Matrix([[tau_x], [tau_y], [tau_z]])\n",
    "\n",
    "# equations of motion\n",
    "f = sym.Matrix.vstack(\n",
    "    R_body_in_world * v_in_body,\n",
    "    M * w_in_body,\n",
    "    (1 / m) * (f_in_body - w_in_body.cross(m * v_in_body)),\n",
    "    J.inv() * (tau_in_body - w_in_body.cross(J * w_in_body)),\n",
    ")\n",
    "\n",
    "f = sym.simplify(f, full=True)"
   ]
  },
  {
   "cell_type": "markdown",
   "id": "575b5c40",
   "metadata": {},
   "source": [
    "Here is the function $f$:"
   ]
  },
  {
   "cell_type": "code",
   "execution_count": 7,
   "id": "9d92b7d9",
   "metadata": {},
   "outputs": [
    {
     "data": {
      "image/png": "[encoded data removed]",
      "text/latex": [
       "$\\displaystyle \\left[\\begin{matrix}v_{x} \\cos{\\left(\\psi \\right)} \\cos{\\left(\\theta \\right)} + v_{y} \\left(\\sin{\\left(\\phi \\right)} \\sin{\\left(\\theta \\right)} \\cos{\\left(\\psi \\right)} - \\sin{\\left(\\psi \\right)} \\cos{\\left(\\phi \\right)}\\right) + v_{z} \\left(\\sin{\\left(\\phi \\right)} \\sin{\\left(\\psi \\right)} + \\sin{\\left(\\theta \\right)} \\cos{\\left(\\phi \\right)} \\cos{\\left(\\psi \\right)}\\right)\\\\v_{x} \\sin{\\left(\\psi \\right)} \\cos{\\left(\\theta \\right)} + v_{y} \\left(\\sin{\\left(\\phi \\right)} \\sin{\\left(\\psi \\right)} \\sin{\\left(\\theta \\right)} + \\cos{\\left(\\phi \\right)} \\cos{\\left(\\psi \\right)}\\right) - v_{z} \\left(\\sin{\\left(\\phi \\right)} \\cos{\\left(\\psi \\right)} - \\sin{\\left(\\psi \\right)} \\sin{\\left(\\theta \\right)} \\cos{\\left(\\phi \\right)}\\right)\\\\- v_{x} \\sin{\\left(\\theta \\right)} + v_{y} \\sin{\\left(\\phi \\right)} \\cos{\\left(\\theta \\right)} + v_{z} \\cos{\\left(\\phi \\right)} \\cos{\\left(\\theta \\right)}\\\\\\frac{w_{y} \\sin{\\left(\\phi \\right)} + w_{z} \\cos{\\left(\\phi \\right)}}{\\cos{\\left(\\theta \\right)}}\\\\w_{y} \\cos{\\left(\\phi \\right)} - w_{z} \\sin{\\left(\\phi \\right)}\\\\w_{x} + w_{y} \\sin{\\left(\\phi \\right)} \\tan{\\left(\\theta \\right)} + w_{z} \\cos{\\left(\\phi \\right)} \\tan{\\left(\\theta \\right)}\\\\v_{y} w_{z} - v_{z} w_{y} + \\frac{981 \\sin{\\left(\\theta \\right)}}{100}\\\\- v_{x} w_{z} + v_{z} w_{x} - \\frac{981 \\sin{\\left(\\phi \\right)} \\cos{\\left(\\theta \\right)}}{100}\\\\2 f_{z} + v_{x} w_{y} - v_{y} w_{x} - \\frac{981 \\cos{\\left(\\phi \\right)} \\cos{\\left(\\theta \\right)}}{100}\\\\\\frac{10000 \\tau_{x}}{23} - \\frac{17 w_{y} w_{z}}{23}\\\\\\frac{10000 \\tau_{y}}{23} + \\frac{17 w_{x} w_{z}}{23}\\\\250 \\tau_{z}\\end{matrix}\\right]$"
      ],
      "text/plain": [
       "⎡vₓ⋅cos(ψ)⋅cos(θ) + v_y⋅(sin(φ)⋅sin(θ)⋅cos(ψ) - sin(ψ)⋅cos(φ)) + v_z⋅(sin(φ)⋅s\n",
       "⎢                                                                             \n",
       "⎢vₓ⋅sin(ψ)⋅cos(θ) + v_y⋅(sin(φ)⋅sin(ψ)⋅sin(θ) + cos(φ)⋅cos(ψ)) - v_z⋅(sin(φ)⋅c\n",
       "⎢                                                                             \n",
       "⎢                            -vₓ⋅sin(θ) + v_y⋅sin(φ)⋅cos(θ) + v_z⋅cos(φ)⋅cos(θ\n",
       "⎢                                                                             \n",
       "⎢                                         w_y⋅sin(φ) + w_z⋅cos(φ)             \n",
       "⎢                                         ───────────────────────             \n",
       "⎢                                                  cos(θ)                     \n",
       "⎢                                                                             \n",
       "⎢                                         w_y⋅cos(φ) - w_z⋅sin(φ)             \n",
       "⎢                                                                             \n",
       "⎢                                wₓ + w_y⋅sin(φ)⋅tan(θ) + w_z⋅cos(φ)⋅tan(θ)   \n",
       "⎢                                                                             \n",
       "⎢                                                          981⋅sin(θ)         \n",
       "⎢                                      v_y⋅w_z - v_z⋅w_y + ──────────         \n",
       "⎢                                                             100             \n",
       "⎢                                                                             \n",
       "⎢                                                      981⋅sin(φ)⋅cos(θ)      \n",
       "⎢                                   -vₓ⋅w_z + v_z⋅wₓ - ─────────────────      \n",
       "⎢                                                             100             \n",
       "⎢                                                                             \n",
       "⎢                                                         981⋅cos(φ)⋅cos(θ)   \n",
       "⎢                               2⋅f_z + vₓ⋅w_y - v_y⋅wₓ - ─────────────────   \n",
       "⎢                                                                100          \n",
       "⎢                                                                             \n",
       "⎢                                          10000⋅τₓ   17⋅w_y⋅w_z              \n",
       "⎢                                          ──────── - ──────────              \n",
       "⎢                                             23          23                  \n",
       "⎢                                                                             \n",
       "⎢                                          10000⋅τ_y   17⋅wₓ⋅w_z              \n",
       "⎢                                          ───────── + ─────────              \n",
       "⎢                                              23          23                 \n",
       "⎢                                                                             \n",
       "⎣                                                 250⋅τ_z                     \n",
       "\n",
       "in(ψ) + sin(θ)⋅cos(φ)⋅cos(ψ))⎤\n",
       "                             ⎥\n",
       "os(ψ) - sin(ψ)⋅sin(θ)⋅cos(φ))⎥\n",
       "                             ⎥\n",
       ")                            ⎥\n",
       "                             ⎥\n",
       "                             ⎥\n",
       "                             ⎥\n",
       "                             ⎥\n",
       "                             ⎥\n",
       "                             ⎥\n",
       "                             ⎥\n",
       "                             ⎥\n",
       "                             ⎥\n",
       "                             ⎥\n",
       "                             ⎥\n",
       "                             ⎥\n",
       "                             ⎥\n",
       "                             ⎥\n",
       "                             ⎥\n",
       "                             ⎥\n",
       "                             ⎥\n",
       "                             ⎥\n",
       "                             ⎥\n",
       "                             ⎥\n",
       "                             ⎥\n",
       "                             ⎥\n",
       "                             ⎥\n",
       "                             ⎥\n",
       "                             ⎥\n",
       "                             ⎥\n",
       "                             ⎥\n",
       "                             ⎥\n",
       "                             ⎥\n",
       "                             ⎦"
      ]
     },
     "execution_count": 7,
     "metadata": {},
     "output_type": "execute_result"
    }
   ],
   "source": [
    "f"
   ]
  },
  {
   "cell_type": "markdown",
   "id": "57d5a35d",
   "metadata": {},
   "source": [
    "Since there are no second order ODEs, we can proceed with linearization."
   ]
  },
  {
   "cell_type": "markdown",
   "id": "2401c501",
   "metadata": {},
   "source": [
    "## Define equilibrium point and verify that $f = 0$"
   ]
  },
  {
   "cell_type": "markdown",
   "id": "7d824e84",
   "metadata": {},
   "source": [
    "Define equilbrium points and set up the function to linearize the system:"
   ]
  },
  {
   "cell_type": "code",
   "execution_count": 8,
   "id": "4edc2a84",
   "metadata": {},
   "outputs": [
    {
     "name": "stdout",
     "output_type": "stream",
     "text": [
      "[[0.]\n",
      " [0.]\n",
      " [0.]\n",
      " [0.]\n",
      " [0.]\n",
      " [0.]\n",
      " [0.]\n",
      " [0.]\n",
      " [0.]\n",
      " [0.]\n",
      " [0.]\n",
      " [0.]]\n"
     ]
    }
   ],
   "source": [
    "p_x_eq = 0. # m\n",
    "p_y_eq = 0. # m\n",
    "p_z_eq = 0. # m\n",
    "psi_eq = 0. # rad\n",
    "theta_eq = 0. # rad\n",
    "phi_eq = 0. # rad\n",
    "v_x_eq = 0. # rad\n",
    "v_y_eq = 0. # rad\n",
    "v_z_eq = 0. # rad\n",
    "w_x_eq = 0. # rad\n",
    "w_y_eq = 0. # rad\n",
    "w_z_eq = 0. # rad\n",
    "tau_x_eq = 0. # rad\n",
    "tau_y_eq = 0. # rad\n",
    "tau_z_eq = 0. # rad\n",
    "f_z_eq = 4.905 # rad\n",
    "\n",
    "f_num = sym.lambdify([p_x, p_y, p_z, psi, theta, phi, v_x, v_y, v_z, w_x, w_y, w_z, tau_x, tau_y, tau_z, f_z], f)\n",
    "f_eq = f_num(p_x_eq, p_y_eq, p_z_eq, psi_eq, theta_eq, phi_eq, v_x_eq, v_y_eq, v_z_eq, w_x_eq, w_y_eq, w_z_eq, tau_x_eq, tau_y_eq, tau_z_eq, f_z_eq)\n",
    "print(f_eq)"
   ]
  },
  {
   "cell_type": "markdown",
   "id": "7d33b49e",
   "metadata": {},
   "source": [
    "## Linearize the system and compute A and B matrices to place the system in state-space form:"
   ]
  },
  {
   "cell_type": "code",
   "execution_count": 9,
   "id": "458a7217",
   "metadata": {},
   "outputs": [
    {
     "name": "stdout",
     "output_type": "stream",
     "text": [
      "A =\n",
      "[[ 0.    0.    0.    0.    0.    0.    1.    0.    0.    0.    0.    0.  ]\n",
      " [ 0.    0.    0.    0.    0.    0.    0.    1.    0.    0.    0.    0.  ]\n",
      " [ 0.    0.    0.    0.   -0.    0.   -0.    0.    1.    0.    0.    0.  ]\n",
      " [ 0.    0.    0.    0.    0.    0.    0.    0.    0.    0.    0.    1.  ]\n",
      " [ 0.    0.    0.    0.    0.   -0.    0.    0.    0.    0.    1.   -0.  ]\n",
      " [ 0.    0.    0.    0.    0.    0.    0.    0.    0.    1.    0.    0.  ]\n",
      " [ 0.    0.    0.    0.    9.81  0.    0.    0.   -0.    0.   -0.    0.  ]\n",
      " [ 0.    0.    0.    0.    0.   -9.81 -0.    0.    0.    0.    0.   -0.  ]\n",
      " [ 0.    0.    0.    0.    0.    0.    0.   -0.    0.   -0.    0.    0.  ]\n",
      " [ 0.    0.    0.    0.    0.    0.    0.    0.    0.    0.   -0.   -0.  ]\n",
      " [ 0.    0.    0.    0.    0.    0.    0.    0.    0.    0.    0.    0.  ]\n",
      " [ 0.    0.    0.    0.    0.    0.    0.    0.    0.    0.    0.    0.  ]]\n",
      "\n",
      "B =\n",
      "[[  0.          0.          0.          0.       ]\n",
      " [  0.          0.          0.          0.       ]\n",
      " [  0.          0.          0.          0.       ]\n",
      " [  0.          0.          0.          0.       ]\n",
      " [  0.          0.          0.          0.       ]\n",
      " [  0.          0.          0.          0.       ]\n",
      " [  0.          0.          0.          0.       ]\n",
      " [  0.          0.          0.          0.       ]\n",
      " [  0.          0.          0.          2.       ]\n",
      " [434.7826087   0.          0.          0.       ]\n",
      " [  0.        434.7826087   0.          0.       ]\n",
      " [  0.          0.        250.          0.       ]]\n",
      "\n"
     ]
    }
   ],
   "source": [
    "f.jacobian([p_x, p_y, p_z, psi, theta, phi, v_x, v_y, v_z, w_x, w_y, w_z])\n",
    "# Create lambda function\n",
    "A_num = sym.lambdify((p_x, p_y, p_z, psi, theta, phi, v_x, v_y, v_z, w_x, w_y, w_z, tau_x, tau_y, tau_z, f_z), f.jacobian([p_x, p_y, p_z, psi, theta, phi, v_x, v_y, v_z, w_x, w_y, w_z]))\n",
    "\n",
    "# Evaluate lambda function at equilibrium point\n",
    "A = A_num(p_x_eq, p_y_eq, p_z_eq, psi_eq, theta_eq, phi_eq, v_x_eq, v_y_eq, v_z_eq, w_x_eq, w_y_eq, w_z_eq, tau_x_eq, tau_y_eq, tau_z_eq, f_z_eq)\n",
    "\n",
    "# Create lambda functions\n",
    "B_num = sym.lambdify([p_x, p_y, p_z, psi, theta, phi, v_x, v_y, v_z, w_x, w_y, w_z, tau_x, tau_y, tau_z, f_z], f.jacobian([tau_x, tau_y, tau_z, f_z]), 'numpy')\n",
    "\n",
    "# Evaluate lambda function at equilibrium point\n",
    "B = B_num(p_x_eq, p_y_eq, p_z_eq, psi_eq, theta_eq, phi_eq, v_x_eq, v_y_eq, v_z_eq, w_x_eq, w_y_eq, w_z_eq, tau_x_eq, tau_y_eq, tau_z_eq, f_z_eq)\n",
    "\n",
    "# Display the result\n",
    "print(f'A =\\n{A}\\n')\n",
    "print(f'B =\\n{B}\\n')"
   ]
  },
  {
   "cell_type": "markdown",
   "id": "2114430d",
   "metadata": {},
   "source": [
    "## Determine if the system is controllable"
   ]
  },
  {
   "cell_type": "markdown",
   "id": "b2f03423",
   "metadata": {},
   "source": [
    "Compute the controllability matrix $\\boldsymbol{W}_c$ and confirm that it is full rank (since we have 12 states we need to check the rank(W) and ensure it equals 12):"
   ]
  },
  {
   "cell_type": "code",
   "execution_count": 10,
   "id": "783a0d69",
   "metadata": {
    "scrolled": true
   },
   "outputs": [
    {
     "name": "stdout",
     "output_type": "stream",
     "text": [
      "Largest possible rank = 12\n",
      "\n",
      "Rank of controllability matrix = 12\n",
      "\n"
     ]
    }
   ],
   "source": [
    "n = A.shape[0]\n",
    "\n",
    "# Initialize W with its first column\n",
    "W = B\n",
    "\n",
    "# Create W one column at a time by iterating over i from 1 to n-1\n",
    "for i in range(1, n):\n",
    "    col = np.linalg.matrix_power(A, i) @ B\n",
    "    W = np.block([W, col])\n",
    "    \n",
    "# print(W)\n",
    "r = np.linalg.matrix_rank(W)\n",
    "print(f'Largest possible rank = {A.shape[0]}\\n')\n",
    "print(f'Rank of controllability matrix = {r}\\n')"
   ]
  },
  {
   "cell_type": "markdown",
   "id": "12a7e9d4",
   "metadata": {},
   "source": [
    "Since the rank(W) = 12, this system is controllable. Now, we can go ahead and linearlize the sensor model and ensure that the system is observable."
   ]
  },
  {
   "cell_type": "markdown",
   "id": "efb675cf",
   "metadata": {},
   "source": [
    "## Get the symbolic form of $g$"
   ]
  },
  {
   "cell_type": "markdown",
   "id": "97e44bff",
   "metadata": {},
   "source": [
    "Define the sensor model."
   ]
  },
  {
   "cell_type": "code",
   "execution_count": 11,
   "id": "08df1a33",
   "metadata": {},
   "outputs": [],
   "source": [
    "g = sym.Matrix([p_x, p_y, p_z, psi])"
   ]
  },
  {
   "cell_type": "markdown",
   "id": "0da206a9",
   "metadata": {},
   "source": [
    "The sensor model has this form:\n",
    "\n",
    "$$o = g(p_x, p_y, p_z, \\psi)$$\n",
    "\n",
    "Here is the function $g$:"
   ]
  },
  {
   "cell_type": "code",
   "execution_count": 12,
   "id": "74c529dd",
   "metadata": {},
   "outputs": [
    {
     "data": {
      "image/png": "[encoded data removed]",
      "text/latex": [
       "$\\displaystyle \\left[\\begin{matrix}p_{x}\\\\p_{y}\\\\p_{z}\\\\\\psi\\end{matrix}\\right]$"
      ],
      "text/plain": [
       "⎡pₓ ⎤\n",
       "⎢   ⎥\n",
       "⎢p_y⎥\n",
       "⎢   ⎥\n",
       "⎢p_z⎥\n",
       "⎢   ⎥\n",
       "⎣ ψ ⎦"
      ]
     },
     "execution_count": 12,
     "metadata": {},
     "output_type": "execute_result"
    }
   ],
   "source": [
    "g"
   ]
  },
  {
   "cell_type": "markdown",
   "id": "0ab410d2",
   "metadata": {},
   "source": [
    "Since there are no second order ODEs, we can proceed with linearization."
   ]
  },
  {
   "cell_type": "markdown",
   "id": "c96d5e46",
   "metadata": {},
   "source": [
    "## Linearize the Sensor Model\n",
    "\n",
    "Linearize the sensor and compute C and D."
   ]
  },
  {
   "cell_type": "code",
   "execution_count": 13,
   "id": "d3bdf354",
   "metadata": {},
   "outputs": [
    {
     "name": "stdout",
     "output_type": "stream",
     "text": [
      "C =\n",
      "[[1 0 0 0 0 0 0 0 0 0 0 0]\n",
      " [0 1 0 0 0 0 0 0 0 0 0 0]\n",
      " [0 0 1 0 0 0 0 0 0 0 0 0]\n",
      " [0 0 0 1 0 0 0 0 0 0 0 0]]\n",
      "\n",
      "D =\n",
      "[[0 0 0 0]\n",
      " [0 0 0 0]\n",
      " [0 0 0 0]\n",
      " [0 0 0 0]]\n",
      "\n"
     ]
    }
   ],
   "source": [
    "g.jacobian([p_x, p_y, p_z, psi, theta, phi, v_x, v_y, v_z, w_x, w_y, w_z])\n",
    "# Create lambda function\n",
    "C_num = sym.lambdify((p_x, p_y, p_z, psi, theta, phi, v_x, v_y, v_z, w_x, w_y, w_z, tau_x, tau_y, tau_z, f_z), g.jacobian([p_x, p_y, p_z, psi, theta, phi, v_x, v_y, v_z, w_x, w_y, w_z]))\n",
    "\n",
    "# Evaluate lambda function at equilibrium point\n",
    "C = C_num(p_x_eq, p_y_eq, p_z_eq, psi_eq, theta_eq, phi_eq, v_x_eq, v_y_eq, v_z_eq, w_x_eq, w_y_eq, w_z_eq, tau_x_eq, tau_y_eq, tau_z_eq, f_z_eq)\n",
    "\n",
    "# Create lambda functions\n",
    "D_num = sym.lambdify([p_x, p_y, p_z, psi, theta, phi, v_x, v_y, v_z, w_x, w_y, w_z, tau_x, tau_y, tau_z, f_z], g.jacobian([tau_x, tau_y, tau_z, f_z]), 'numpy')\n",
    "\n",
    "# Evaluate lambda function at equilibrium point\n",
    "D = D_num(p_x_eq, p_y_eq, p_z_eq, psi_eq, theta_eq, phi_eq, v_x_eq, v_y_eq, v_z_eq, w_x_eq, w_y_eq, w_z_eq, tau_x_eq, tau_y_eq, tau_z_eq, f_z_eq)\n",
    "\n",
    "# Display the result\n",
    "print(f'C =\\n{C}\\n')\n",
    "print(f'D =\\n{D}\\n')"
   ]
  },
  {
   "cell_type": "markdown",
   "id": "3e7ca053",
   "metadata": {},
   "source": [
    "## Determine if the system is observable\n",
    "\n",
    "Compute the observability matrix $\\boldsymbol{W}_O$ and confirm that it is full rank (since we have 12 states we need to check the rank(W_obs) and ensure it equals 12):"
   ]
  },
  {
   "cell_type": "code",
   "execution_count": 14,
   "id": "fc74ae8b",
   "metadata": {},
   "outputs": [
    {
     "name": "stdout",
     "output_type": "stream",
     "text": [
      "Largest possible rank = 12\n",
      "\n",
      "Rank of obervability matrix = 12\n",
      "\n"
     ]
    }
   ],
   "source": [
    "n = A.shape[0]\n",
    "\n",
    "# Initialize W with its first column\n",
    "W_obs = C.T\n",
    "\n",
    "# Create W one column at a time by iterating over i from 1 to n-1\n",
    "for i in range(1, n):\n",
    "    col = np.linalg.matrix_power(A.T, i) @ C.T\n",
    "    W_obs = np.block([W_obs, col])\n",
    "    \n",
    "# print(W_obs)\n",
    "r = np.linalg.matrix_rank(W_obs)\n",
    "print(f'Largest possible rank = {A.shape[0]}\\n')\n",
    "print(f'Rank of obervability matrix = {r}\\n')"
   ]
  },
  {
   "cell_type": "markdown",
   "id": "1937b458",
   "metadata": {},
   "source": [
    "Since the rank(W_obs) = 12, this system is observable. Now, we can go ahead and find the gain matrix K for the controller, the gain matrix L for the observer, and ensure asymptotic stability for both the controller and observer."
   ]
  },
  {
   "cell_type": "markdown",
   "id": "99419953",
   "metadata": {},
   "source": [
    "## Compute a controller gains matrix $K$ using LQR\n",
    "Then verify that the controller is asymptotically stable in theory by verifying all eigenvalues have negative real part."
   ]
  },
  {
   "cell_type": "code",
   "execution_count": 15,
   "id": "10d85ac5",
   "metadata": {},
   "outputs": [
    {
     "name": "stdout",
     "output_type": "stream",
     "text": [
      "K =\n",
      "[[ 0.         -0.2236068   0.          0.         -0.          1.1181764\n",
      "  -0.         -0.29035879  0.          0.21247026 -0.          0.        ]\n",
      " [ 0.17320508  0.          0.         -0.          0.93406636 -0.\n",
      "   0.25096553  0.          0.         -0.          0.1711628   0.        ]\n",
      " [ 0.         -0.          0.          0.23804761  0.          0.\n",
      "   0.          0.         -0.          0.          0.          0.18771711]\n",
      " [ 0.         -0.          0.25819889 -0.          0.          0.\n",
      "  -0.         -0.          0.53993724  0.          0.         -0.        ]]\n",
      "\n"
     ]
    }
   ],
   "source": [
    "#Q_cont = np.eye(12)\n",
    "#R_cont = np.diag([20., 20., 20., 20.])\n",
    "Q_cont = np.diag([1.2, 1.5, 2.0, 1.7, 1.5, 1.5, 1.2, 1.0, 1.0, 1.2, 1.0, 1.0])\n",
    "R_cont = np.diag([30., 40., 30., 30.])\n",
    "\n",
    "P_cont = linalg.solve_continuous_are(A, B, Q_cont, R_cont)\n",
    "K = linalg.inv(R_cont) @ B.T @ P_cont\n",
    "print(f'K =\\n{K}\\n')"
   ]
  },
  {
   "cell_type": "markdown",
   "id": "5cd7e34a",
   "metadata": {},
   "source": [
    "Now that we have found the K matrix, we can check that this controller is asymptotically stable by checking that the real components of the eigenvalues of the (A-BK) matrix are negative."
   ]
  },
  {
   "cell_type": "code",
   "execution_count": 16,
   "id": "f367beba",
   "metadata": {},
   "outputs": [
    {
     "name": "stdout",
     "output_type": "stream",
     "text": [
      "[-68.73443022+0.j         -86.94939376+0.j\n",
      " -45.62490486+0.j          -2.34100832+2.29008175j\n",
      "  -2.34100832-2.29008175j  -1.00216328+0.j\n",
      "  -2.10349808+2.13343102j  -2.10349808-2.13343102j\n",
      "  -1.22198406+0.j          -1.30437321+0.j\n",
      "  -0.53993724+0.47419991j  -0.53993724-0.47419991j]\n"
     ]
    }
   ],
   "source": [
    "F = A - (B@K)\n",
    "s = np.linalg.eigvals(F)\n",
    "print(s)"
   ]
  },
  {
   "cell_type": "markdown",
   "id": "93751965",
   "metadata": {},
   "source": [
    "Since all the real components of the eigenvalues of the (A-BK) matrix are negative, the controller is deemed to be asymptotically stable. Now, we can go ahead and find the gain matrix for the observer L, and check that the observer is asymptotically stable."
   ]
  },
  {
   "cell_type": "markdown",
   "id": "15879db9",
   "metadata": {},
   "source": [
    "## Compute an observer gains matrix $L$ using LQR\n",
    "Then verify that the observer is asymptotically stable in theory by verifying all eigenvalues have negative real part."
   ]
  },
  {
   "cell_type": "code",
   "execution_count": 17,
   "id": "463e140b",
   "metadata": {},
   "outputs": [
    {
     "name": "stdout",
     "output_type": "stream",
     "text": [
      "L =\n",
      "[[10.11598839  0.          0.          0.        ]\n",
      " [ 0.         10.45391741  0.          0.        ]\n",
      " [ 0.          0.          5.09455112  0.        ]\n",
      " [ 0.          0.          0.          5.34803796]\n",
      " [ 7.94842893  0.          0.          0.        ]\n",
      " [ 0.         -8.67697366  0.          0.        ]\n",
      " [38.66661051  0.          0.          0.        ]\n",
      " [ 0.         41.30886125  0.          0.        ]\n",
      " [ 0.          0.          5.47722558  0.        ]\n",
      " [ 0.         -5.77350269  0.          0.        ]\n",
      " [ 5.47722558  0.          0.          0.        ]\n",
      " [ 0.          0.          0.          5.47722558]]\n",
      "\n"
     ]
    }
   ],
   "source": [
    "#Q_obs = np.diag([20., 20., 20., 20.])\n",
    "#R_obs = np.eye(12)\n",
    "R_obs = np.diag([1.2, 1.5, 2.0, 1.7, 1.5, 1.5, 1.2, 1.0, 1.0, 1.2, 1.0, 1.0])\n",
    "Q_obs = np.diag([30., 40., 30., 30.])\n",
    "\n",
    "P_obs = linalg.solve_continuous_are(A.T, C.T, linalg.inv(R_obs), linalg.inv(Q_obs))\n",
    "L = P_obs @ C.T @ Q_obs\n",
    "print(f'L =\\n{L}\\n')"
   ]
  },
  {
   "cell_type": "markdown",
   "id": "ae548dc4",
   "metadata": {},
   "source": [
    "Now that we have found the L matrix, we can check that this observer is asymptotically stable by checking that the real components of the eigenvalues of the (A-LC) matrix are negative."
   ]
  },
  {
   "cell_type": "code",
   "execution_count": 18,
   "id": "abfd1bd5",
   "metadata": {},
   "outputs": [
    {
     "name": "stdout",
     "output_type": "stream",
     "text": [
      "[-1.86808061+2.24626002j -1.86808061-2.24626002j -5.15978928+0.j\n",
      " -5.32107006+0.j         -2.006295  +2.34014269j -2.006295  -2.34014269j\n",
      " -1.2200379 +0.j         -3.96752272+0.j         -3.55295305+0.j\n",
      " -1.54159807+0.j         -1.38051524+0.j         -1.12025736+0.j        ]\n"
     ]
    }
   ],
   "source": [
    "F = A - (L@C)\n",
    "s = np.linalg.eigvals(F)\n",
    "print(s)"
   ]
  },
  {
   "cell_type": "markdown",
   "id": "5dbe4694",
   "metadata": {},
   "source": [
    "Since all the real components of the eigenvalues of the (A-LC) matrix are negative, the observer is deemed to be asymptotically stable. Now, we can go ahead and implement the controller and observer for simulations."
   ]
  },
  {
   "cell_type": "markdown",
   "id": "deb624d5",
   "metadata": {},
   "source": [
    "## Define a controller that maps sensor measurements to actuator commands"
   ]
  },
  {
   "cell_type": "markdown",
   "id": "1dd85de9",
   "metadata": {},
   "source": [
    "Define a controller for the drone with observer implementation."
   ]
  },
  {
   "cell_type": "code",
   "execution_count": 19,
   "id": "064bdbf1",
   "metadata": {},
   "outputs": [],
   "source": [
    "class Controller:\n",
    "    def __init__(self):\n",
    "        self.dt = 0.01 # s\n",
    "        self.p_x_eq = 0. # m\n",
    "        self.p_y_eq = 0. # m\n",
    "        self.p_z_eq = 0. # m\n",
    "        self.psi_eq = 0. # rad\n",
    "        self.theta_eq = 0. # rad\n",
    "        self.phi_eq = 0. # rad\n",
    "        self.v_x_eq = 0. # rad\n",
    "        self.v_y_eq = 0. # rad\n",
    "        self.v_z_eq = 0. # rad\n",
    "        self.w_x_eq = 0. # rad\n",
    "        self.w_y_eq = 0. # rad\n",
    "        self.w_z_eq = 0. # rad\n",
    "        self.tau_x_eq = 0. # rad\n",
    "        self.tau_y_eq = 0. # rad\n",
    "        self.tau_z_eq = 0. # rad\n",
    "        self.f_z_eq = 4.905 # rad\n",
    "        self.A = A\n",
    "        self.B = B\n",
    "        self.C = C\n",
    "        self.K = K\n",
    "        self.L = L\n",
    "        self.reset(0., 0., 0., 0.)\n",
    "        self.variables_to_log = ['x_des', 'xhat']\n",
    "        self.r = 2.45\n",
    "        self.u_des = np.array([0., 0., 0., 0.])\n",
    "        self.x_des = np.array([0., 0., 0., 0., 0., 0., 0., 0., 0., 0., 0., 0.]) \n",
    "\n",
    "    def get_color(self):\n",
    "        return [0., 1., 0.]\n",
    "\n",
    "    def reset(\n",
    "            self,\n",
    "            p_x_meas, p_y_meas, p_z_meas, # <-- measured position of drone (meters)\n",
    "            yaw_meas,                     # <-- measured yaw angle of drone (radians)\n",
    "        ):\n",
    "        self.xhat = np.array([p_x_meas, p_y_meas, p_z_meas, yaw_meas, 0., 0., 0., 0., 0., 0., 0., 0.]) # Define initial state estimate\n",
    "\n",
    "    def run(\n",
    "            self,\n",
    "            p_x_meas, p_y_meas, p_z_meas, # <-- measured position of drone (meters)\n",
    "            yaw_meas,                     # <-- measured yaw angle of drone (radians)\n",
    "            p_x_ring, p_y_ring, p_z_ring, # <-- center position of next ring (meters)\n",
    "            is_last_ring,                 # <-- True if next ring is the last ring, False otherwise\n",
    "            pos_others,                   # <-- 2d array of size n x 3, where n is the number\n",
    "                                          #     of all *other* drones - the ith row in this array\n",
    "                                          #     has the coordinates [x_i, y_i, z_i], in meters, of\n",
    "                                          #     the ith other drone\n",
    "        ):\n",
    "        # Find desired input\n",
    "        \n",
    "        \n",
    "        # Find desired state\n",
    "        # Initialize the desired state\n",
    "        \n",
    "        if p_z_meas < 0.5: # We want the vertical height of the drone to clear the initial ring, so we make the drone achieve a height of 0.8 m before it moves to the next ring\n",
    "            self.x_des[0:3] = np.array([p_x_meas, p_y_meas, 0.6])\n",
    "        else: # Once the desired vertical height is reached, the drone will start moving through the rings\n",
    "            self.phat = np.array([p_x_meas, p_y_meas,  p_z_meas])\n",
    "            self.p_ring = np.array([p_x_ring, p_y_ring, p_z_ring])\n",
    "            \n",
    "            d = self.p_ring - self.phat\n",
    "            \n",
    "            self.p_des = self.phat + self.r*d / np.linalg.norm(d)\n",
    "            self.x_des[0:3] = self.p_des\n",
    "        \n",
    "        # Find input\n",
    "        u = self.u_des - self.K @ (self.xhat - self.x_des)\n",
    "        \n",
    "        # implement system output\n",
    "        y = np.array([p_x_meas - self.p_x_eq, p_y_meas - self.p_y_eq, p_z_meas - self.p_z_eq, yaw_meas - self.psi_eq])\n",
    "        \n",
    "        # Find state estimate\n",
    "        self.xhat += self.dt * (self.A @ self.xhat + self.B @ u - self.L@(self.C@self.xhat - y))\n",
    "        \n",
    "        tau_x = u[0] + self.tau_x_eq\n",
    "        tau_y = u[1] + self.tau_y_eq\n",
    "        tau_z = u[2] + self.tau_z_eq\n",
    "        f_z = u[3] + self.f_z_eq\n",
    "\n",
    "        return tau_x, tau_y, tau_z, f_z"
   ]
  },
  {
   "cell_type": "markdown",
   "id": "4b1cae51",
   "metadata": {},
   "source": [
    "Add the drone to the simulator. There are three arguments:\n",
    "\n",
    "* `Controller` is the class definition\n",
    "* `'my_netid'` is the name of the drone\n",
    "* `'my_image.png'` is the name of an image to use as a label (can be `None`, can be a file path)\n",
    "\n",
    "You can call this function more than once, so long as you call it with a different drone name each time. An exception will be raised if you try to add two drones of the same name to the simulator."
   ]
  },
  {
   "cell_type": "code",
   "execution_count": 20,
   "id": "87c37767",
   "metadata": {},
   "outputs": [],
   "source": [
    "simulator.add_drone(Controller, 'my_netid', 'my_image.png')"
   ]
  },
  {
   "cell_type": "markdown",
   "id": "bc797d3a",
   "metadata": {},
   "source": [
    "Reset the drone (i.e., place it at a random location in the start ring)."
   ]
  },
  {
   "cell_type": "code",
   "execution_count": null,
   "id": "24d7a192",
   "metadata": {},
   "outputs": [],
   "source": [
    "simulator.reset()"
   ]
  },
  {
   "cell_type": "markdown",
   "id": "9c341f24",
   "metadata": {},
   "source": [
    "Run simulation until `max_time` is reached or until the drone reaches the finish ring."
   ]
  },
  {
   "cell_type": "code",
   "execution_count": null,
   "id": "ae7259f7",
   "metadata": {},
   "outputs": [],
   "source": [
    "simulator.camera_droneview('my_netid')"
   ]
  },
  {
   "cell_type": "code",
   "execution_count": null,
   "id": "84d61286",
   "metadata": {
    "scrolled": true
   },
   "outputs": [],
   "source": [
    "simulator.run(max_time=45.0)"
   ]
  },
  {
   "cell_type": "markdown",
   "id": "f77c7c26",
   "metadata": {},
   "source": [
    "Get results."
   ]
  },
  {
   "cell_type": "code",
   "execution_count": null,
   "id": "0ca52b31",
   "metadata": {},
   "outputs": [],
   "source": [
    "(\n",
    "    did_it_fail,\n",
    "    did_it_finish,\n",
    "    what_time_did_it_finish,\n",
    ") = simulator.get_result('my_netid')"
   ]
  },
  {
   "cell_type": "markdown",
   "id": "ef75f2d1",
   "metadata": {},
   "source": [
    "Show results."
   ]
  },
  {
   "cell_type": "code",
   "execution_count": null,
   "id": "7ce5abb4",
   "metadata": {},
   "outputs": [],
   "source": [
    "if did_it_fail:\n",
    "    print('The drone failed before finishing.')\n",
    "elif did_it_finish:\n",
    "    print(f'The drone finished at time {what_time_did_it_finish}')\n",
    "else:\n",
    "    print('The drone did not finish (yet).')"
   ]
  },
  {
   "cell_type": "markdown",
   "id": "52ee5343",
   "metadata": {},
   "source": [
    "Get data."
   ]
  },
  {
   "cell_type": "code",
   "execution_count": null,
   "id": "b23ee85f",
   "metadata": {},
   "outputs": [],
   "source": [
    "data = simulator.get_data('my_netid')"
   ]
  },
  {
   "cell_type": "markdown",
   "id": "07f39a39",
   "metadata": {},
   "source": [
    "Plot results."
   ]
  },
  {
   "cell_type": "code",
   "execution_count": null,
   "id": "5612979d",
   "metadata": {},
   "outputs": [],
   "source": [
    "# Create a figure with subplots that all share the same x-axis\n",
    "fig, (ax_pos, ax_ori, ax_act) = plt.subplots(3, 1, figsize=(12, 12), sharex=True)\n",
    "\n",
    "# Position\n",
    "ax_pos.plot(data['t'], data['p_x'], label='x (m)', linewidth=3, color='C0')\n",
    "ax_pos.plot(data['t'], data['p_y'], label='y (m)', linewidth=3, color='C1')\n",
    "ax_pos.plot(data['t'], data['p_z'], label='z (m)', linewidth=3, color='C2')\n",
    "ax_pos.plot(data['t'], data['p_x_meas'], '.', label='measured x (m)', markersize=3, color='C0')\n",
    "ax_pos.plot(data['t'], data['p_y_meas'], '.', label='measured y (m)', markersize=3, color='C1')\n",
    "ax_pos.plot(data['t'], data['p_z_meas'], '.', label='measured z (m)', markersize=3, color='C2')\n",
    "ax_pos.grid()\n",
    "ax_pos.legend(fontsize=16, bbox_to_anchor=(1., 1.))\n",
    "ax_pos.tick_params(labelsize=14)\n",
    "\n",
    "# Orientation\n",
    "ax_ori.plot(data['t'], data['yaw'], label='yaw (rad)', linewidth=3)\n",
    "ax_ori.plot(data['t'], data['pitch'], label='pitch (rad)', linewidth=3)\n",
    "ax_ori.plot(data['t'], data['roll'], label='roll (rad)', linewidth=3)\n",
    "ax_ori.plot(data['t'], data['yaw_meas'], '.', label='measured yaw (rad)', markersize=3, color='C0')\n",
    "ax_ori.grid()\n",
    "ax_ori.legend(fontsize=16, bbox_to_anchor=(1., 1.))\n",
    "ax_ori.tick_params(labelsize=14)\n",
    "\n",
    "# Actuator commands\n",
    "ax_act.plot(data['t'], data['tau_x'], label='tau_x (N-m)', linewidth=4)\n",
    "ax_act.plot(data['t'], data['tau_x_cmd'], '--', label='commanded tau_x (N-m)', linewidth=4)\n",
    "ax_act.plot(data['t'], data['tau_y'], label='tau_y (N-m)', linewidth=4)\n",
    "ax_act.plot(data['t'], data['tau_y_cmd'], '--', label='commanded tau_y (N-m)', linewidth=4)\n",
    "ax_act.plot(data['t'], data['tau_z'], label='tau_z (N-m)', linewidth=4)\n",
    "ax_act.plot(data['t'], data['tau_z_cmd'], '--', label='commanded tau_z (N-m)', linewidth=4)\n",
    "ax_act.plot(data['t'], data['f_z'] - (0.5 * 9.81), label='f_z - m g (N)', linewidth=4) # <-- FIXME\n",
    "ax_act.plot(data['t'], data['f_z_cmd'] - (0.5 * 9.81), '--', label='commanded f_z - m g (N)', linewidth=4) # <-- FIXME\n",
    "ax_act.grid()\n",
    "ax_act.legend(fontsize=16, bbox_to_anchor=(1., 1.))\n",
    "ax_act.tick_params(labelsize=14)\n",
    "# ax_act.set_ylim(-10, 10) # <-- FIXME\n",
    "\n",
    "# Set shared x-axis properties\n",
    "ax_act.set_xlabel('time (s)', fontsize=20)\n",
    "ax_act.set_xlim([data['t'][0], data['t'][-1]])\n",
    "\n",
    "# Make the arrangement of subplots look nice\n",
    "fig.tight_layout()\n",
    "plt.show()"
   ]
  },
  {
   "cell_type": "markdown",
   "id": "08b325d7",
   "metadata": {},
   "source": [
    "Save the figure (without transparent background)."
   ]
  },
  {
   "cell_type": "code",
   "execution_count": null,
   "id": "3b6a8ee2",
   "metadata": {},
   "outputs": [],
   "source": [
    "fig.savefig('my_figure.png', facecolor='white', transparent=False)"
   ]
  },
  {
   "cell_type": "markdown",
   "id": "d110f7b3",
   "metadata": {},
   "source": [
    "The function below will be used to calculate the Root-Mean-Square Error in yaw, pitch, and roll angles across all simulations."
   ]
  },
  {
   "cell_type": "code",
   "execution_count": 22,
   "id": "7fa0d3b3",
   "metadata": {},
   "outputs": [],
   "source": [
    "def rmse(actual, equilibrium):\n",
    "    return np.sqrt(((actual - equilibrium) ** 2).mean())"
   ]
  },
  {
   "cell_type": "code",
   "execution_count": null,
   "id": "824a0498",
   "metadata": {
    "scrolled": false
   },
   "outputs": [
    {
     "name": "stdout",
     "output_type": "stream",
     "text": [
      "FINISHED: drone \"my_netid\" at time 28.66\n",
      "FINISHED: drone \"my_netid\" at time 28.84\n"
     ]
    }
   ],
   "source": [
    "actual_position_error_x = []\n",
    "actual_position_error_y = []\n",
    "actual_position_error_z = []\n",
    "estimated_position_error_x = []\n",
    "estimated_position_error_y = []\n",
    "estimated_position_error_z = []\n",
    "completion_times = []\n",
    "count = 0\n",
    "\n",
    "for i in range(100):\n",
    "    simulator.reset()\n",
    "    simulator.run(max_time=45.0)\n",
    "    data = simulator.get_data('my_netid')\n",
    "    actual_position_error_x.append(rmse(data['p_x'], data['x_des'][:,0]))\n",
    "    actual_position_error_y.append(rmse(data['p_y'], data['x_des'][:,1]))\n",
    "    actual_position_error_z.append(rmse(data['p_z'], data['x_des'][:,2]))\n",
    "    estimated_position_error_x.append(rmse(data['p_x_meas'], data['p_x']))\n",
    "    estimated_position_error_y.append(rmse(data['p_y_meas'], data['p_y']))\n",
    "    estimated_position_error_z.append(rmse(data['p_z_meas'], data['p_z']))\n",
    "    completion_times.append(data['t'][-1])\n",
    "    if data['t'][-1] <= 30:\n",
    "        count += 1\n",
    "    \n",
    "fig = plt.figure(figsize = (12,10), tight_layout= True)\n",
    "f1 = fig.add_subplot(421)\n",
    "f1.hist(actual_position_error_x, bins = 40)\n",
    "#f1.set_title('Error Between Actual Position and \\nDesired Position x-direction')\n",
    "f1.set_xlabel('$x$ Position and Desired RMSE (m)')\n",
    "f1.set_ylabel('Number of Simulations')\n",
    "f1.grid()\n",
    "\n",
    "f2 = fig.add_subplot(422)\n",
    "f2.hist(actual_position_error_y, bins = 40)\n",
    "#f2.set_title('Error Between Actual Position and \\nDesired Position y-direction')\n",
    "f2.set_xlabel('$y$ Position and Desired RMSE (m)')\n",
    "f2.set_ylabel('Number of Simulations')\n",
    "f2.grid()\n",
    "\n",
    "f3 = fig.add_subplot(423)\n",
    "f3.hist(actual_position_error_z, bins = 40)\n",
    "#f3.set_title('Error Between Actual Position and \\nDesired Position z-direction')\n",
    "f3.set_xlabel('$z$ Position and Desired RMSE (m)')\n",
    "f3.set_ylabel('Number of Simulations')\n",
    "f3.grid()\n",
    "\n",
    "f4 = fig.add_subplot(424)\n",
    "f4.hist(estimated_position_error_x, bins = 40)\n",
    "#f4.set_title('Error Between Estimated Position \\nand Actual Position')\n",
    "f4.set_xlabel('Estimated $x$ Position and Actual RMSE (m)')\n",
    "f4.set_ylabel('Number of Simulations')\n",
    "f4.grid()\n",
    "\n",
    "f5 = fig.add_subplot(425)\n",
    "f5.hist(estimated_position_error_y, bins = 40)\n",
    "#f5.set_title('Error Between Estimated Position \\nand Actual Position')\n",
    "f5.set_xlabel('Estimated $y$ Position and Actual RMSE (m)')\n",
    "f5.set_ylabel('Number of Simulations')\n",
    "f5.grid()\n",
    "\n",
    "f6 = fig.add_subplot(426)\n",
    "f6.hist(estimated_position_error_z, bins = 40)\n",
    "#f6.set_title('Error Between Estimated Position \\nand Actual Position')\n",
    "f6.set_xlabel('Estimated $z$ Position and Actual RMSE (m)')\n",
    "f6.set_ylabel('Number of Simulations')\n",
    "f6.grid()\n",
    "\n",
    "f7 = fig.add_subplot(427)\n",
    "f7.hist(completion_times, bins = 40)\n",
    "#f7.set_title('Completion Times')\n",
    "f7.set_xlabel('Time (s)')\n",
    "f7.set_ylabel('Number of Simulations')\n",
    "f7.grid()\n",
    "\n",
    "f8 = fig.add_subplot(428)\n",
    "f8.hist(data['run_time'], bins = 40)\n",
    "f8.ticklabel_format(style='scientific', scilimits=(0, 0), axis='x')\n",
    "f8.tick_params(labelsize=10)\n",
    "f8.set_xlabel('Run time (s)', fontsize=10)\n",
    "f8.set_ylabel('Number of Simulations', fontsize=10)\n",
    "f8.grid()\n",
    "\n",
    "print(f\"The number of simulations that have a run time less than or equal to 30 seconds: \\n{count}\")"
   ]
  },
  {
   "cell_type": "markdown",
   "id": "b4bb5407",
   "metadata": {},
   "source": [
    "State Estimates vs Actual States"
   ]
  },
  {
   "cell_type": "code",
   "execution_count": null,
   "id": "abda32f0",
   "metadata": {},
   "outputs": [],
   "source": [
    "t = data['t']\n",
    "p_x_data = data['p_x']\n",
    "p_y_data = data['p_y']\n",
    "p_z_data = data['p_z']\n",
    "x1 = p_x_data - p_x_eq\n",
    "x2 = p_y_data - p_y_eq\n",
    "x3 = p_z_data - p_z_eq\n",
    "xhat = data['xhat']\n",
    "\n",
    "fig, (ax_x1, ax_x2, ax_x3) = plt.subplots(3, 1, figsize=(8, 8), sharex=True)\n",
    "\n",
    "ax_x1.plot(t, x1, label='$p_x$', linewidth=4, alpha=0.8)\n",
    "ax_x1.plot(t, xhat[:, 0], '--', label=r'$p_x$ (estimated)', linewidth=4)\n",
    "\n",
    "ax_x2.plot(t, x2, label='$p_y$', linewidth=4, alpha=0.8)\n",
    "ax_x2.plot(t, xhat[:, 1], '--', label=r'$p_y$ (estimated)', linewidth=4)\n",
    "\n",
    "ax_x3.plot(t, x3, label='$p_z$', linewidth=4, alpha=0.8)\n",
    "ax_x3.plot(t, xhat[:, 2], '--', label=r'$p_z$ (estimated)', linewidth=4)\n",
    "\n",
    "ax_x1.grid()\n",
    "ax_x1.legend(fontsize=12, ncol=2)\n",
    "ax_x1.tick_params(labelsize=14)\n",
    "ax_x1.set_ylabel('x-position \\n (m)', fontsize=16)\n",
    "\n",
    "ax_x2.grid()\n",
    "ax_x2.legend(fontsize=12, ncol=2)\n",
    "ax_x2.tick_params(labelsize=14)\n",
    "ax_x2.set_ylabel('y-position \\n (m)', fontsize=16)\n",
    "\n",
    "ax_x3.grid()\n",
    "ax_x3.legend(fontsize=12, ncol=2)\n",
    "ax_x3.tick_params(labelsize=14)\n",
    "ax_x3.set_ylabel('z-position \\n (m)', fontsize=12)\n",
    "ax_x3.set_xlabel('Time (s)', fontsize=12 )\n",
    "\n",
    "fig.tight_layout()"
   ]
  },
  {
   "cell_type": "code",
   "execution_count": null,
   "id": "9808360b",
   "metadata": {},
   "outputs": [],
   "source": []
  }
 ],
 "metadata": {
  "kernelspec": {
   "display_name": "Python 3 (ipykernel)",
   "language": "python",
   "name": "python3"
  },
  "language_info": {
   "codemirror_mode": {
    "name": "ipython",
    "version": 3
   },
   "file_extension": ".py",
   "mimetype": "text/x-python",
   "name": "python",
   "nbconvert_exporter": "python",
   "pygments_lexer": "ipython3",
   "version": "3.10.2"
  }
 },
 "nbformat": 4,
 "nbformat_minor": 5
}
