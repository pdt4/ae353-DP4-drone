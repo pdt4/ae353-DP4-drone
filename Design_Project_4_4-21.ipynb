{
 "cells": [
  {
   "cell_type": "markdown",
   "id": "93d1a34f",
   "metadata": {},
   "source": [
    "# DP4: Control of a drone\n",
    "### Patrick Thornton, Krishna Modi"
   ]
  },
  {
   "cell_type": "markdown",
   "id": "c6b9e3e3",
   "metadata": {},
   "source": [
    "### Import necessary libraries and configure the notebook:"
   ]
  },
  {
   "cell_type": "code",
   "execution_count": 1,
   "id": "6c4f6315",
   "metadata": {},
   "outputs": [
    {
     "name": "stderr",
     "output_type": "stream",
     "text": [
      "pybullet build time: Jan 28 2022 20:18:15\n"
     ]
    }
   ],
   "source": [
    "#all necessary imports\n",
    "import os\n",
    "import sympy as sym\n",
    "import time\n",
    "import numpy as np\n",
    "from scipy import linalg\n",
    "import matplotlib.pyplot as plt\n",
    "import secrets\n",
    "import importlib\n",
    "import ae353_drone\n",
    "importlib.reload(ae353_drone)\n",
    "\n",
    "# library used to print LaTeX-formatted text\n",
    "from sympy.physics import mechanics\n",
    "mechanics.init_vprinting()\n",
    "\n",
    "# Suppress the use of scientific notation when printing small numbers\n",
    "np.set_printoptions(suppress=True)"
   ]
  },
  {
   "cell_type": "markdown",
   "id": "ca6416a4",
   "metadata": {},
   "source": [
    "Create an instance of the Simulator using the `Simulator` class:\\\n",
    "NOTE: RUN THIS CELL ONLY ONCE - Restart the kernel to create a new simulator"
   ]
  },
  {
   "cell_type": "markdown",
   "id": "ed442173",
   "metadata": {},
   "source": [
    "Create and print a seed for the random number generator so it is possible to reproduce the results."
   ]
  },
  {
   "cell_type": "code",
   "execution_count": 2,
   "id": "9585b3cd",
   "metadata": {},
   "outputs": [
    {
     "name": "stdout",
     "output_type": "stream",
     "text": [
      "1769083227\n"
     ]
    }
   ],
   "source": [
    "seed = secrets.randbits(32)\n",
    "print(seed)"
   ]
  },
  {
   "cell_type": "markdown",
   "id": "18a15709",
   "metadata": {},
   "source": [
    "Create simulator with seed."
   ]
  },
  {
   "cell_type": "code",
   "execution_count": 3,
   "id": "35c1e0af",
   "metadata": {},
   "outputs": [],
   "source": [
    "simulator = ae353_drone.Simulator(\n",
    "    display=False,\n",
    "    seed=seed,\n",
    ")"
   ]
  },
  {
   "cell_type": "markdown",
   "id": "becf9036",
   "metadata": {},
   "source": [
    "## Define equations of motion for the dynamic model and construct $f$\n",
    "\n",
    "The equations of motion have this form:\n",
    "\n",
    "$$\\begin{bmatrix} \\dot{p}_x \\\\ \\dot{p}_y \\\\ \\dot{p}_z \\\\ \\dot{\\psi} \\\\ \\dot{\\theta} \\\\ \\dot{\\phi} \\\\ \\dot{v}_x \\\\ \\dot{v}_y \\\\ \\dot{v}_z \\\\ \\dot{w}_x \\\\ \\dot{w}_y \\\\ \\dot{w}_z \\end{bmatrix} = f\\left(p_x, p_y, p_z, \\psi, \\theta, \\phi, v_x, v_y, v_z, w_x, w_y, w_z, \\tau_x, \\tau_y, \\tau_z, f_z \\right)$$"
   ]
  },
  {
   "cell_type": "markdown",
   "id": "1f2377c6",
   "metadata": {},
   "source": [
    "Define physical parameters."
   ]
  },
  {
   "cell_type": "code",
   "execution_count": 4,
   "id": "2bee635f",
   "metadata": {},
   "outputs": [],
   "source": [
    "params = {\n",
    "    'm': 0.5,\n",
    "    'Jx': 0.0023,\n",
    "    'Jy': 0.0023,\n",
    "    'Jz': 0.0040,\n",
    "    'l': 0.175,\n",
    "    'g': 9.81,\n",
    "}"
   ]
  },
  {
   "cell_type": "markdown",
   "id": "55998b80",
   "metadata": {},
   "source": [
    "Derive the equations of motion:"
   ]
  },
  {
   "cell_type": "code",
   "execution_count": 5,
   "id": "006377d7",
   "metadata": {},
   "outputs": [],
   "source": [
    "# components of position (meters)\n",
    "p_x, p_y, p_z = sym.symbols('p_x, p_y, p_z')\n",
    "\n",
    "# yaw, pitch, roll angles (radians)\n",
    "psi, theta, phi = sym.symbols('psi, theta, phi')\n",
    "\n",
    "# components of linear velocity (meters / second)\n",
    "v_x, v_y, v_z = sym.symbols('v_x, v_y, v_z')\n",
    "v_in_body = sym.Matrix([v_x, v_y, v_z])\n",
    "\n",
    "# components of angular velocity (radians / second)\n",
    "w_x, w_y, w_z = sym.symbols('w_x, w_y, w_z')\n",
    "w_in_body = sym.Matrix([w_x, w_y, w_z])\n",
    "\n",
    "# components of net rotor torque\n",
    "tau_x, tau_y, tau_z = sym.symbols('tau_x, tau_y, tau_z')\n",
    "\n",
    "# net rotor force\n",
    "f_z = sym.symbols('f_z')\n",
    "\n",
    "# parameters\n",
    "m = sym.nsimplify(params['m'])\n",
    "Jx = sym.nsimplify(params['Jx'])\n",
    "Jy = sym.nsimplify(params['Jy'])\n",
    "Jz = sym.nsimplify(params['Jz'])\n",
    "l = sym.nsimplify(params['l'])\n",
    "g = sym.nsimplify(params['g'])\n",
    "J = sym.diag(Jx, Jy, Jz)\n",
    "\n",
    "# rotation matrices\n",
    "Rz = sym.Matrix([[sym.cos(psi), -sym.sin(psi), 0], [sym.sin(psi), sym.cos(psi), 0], [0, 0, 1]])\n",
    "Ry = sym.Matrix([[sym.cos(theta), 0, sym.sin(theta)], [0, 1, 0], [-sym.sin(theta), 0, sym.cos(theta)]])\n",
    "Rx = sym.Matrix([[1, 0, 0], [0, sym.cos(phi), -sym.sin(phi)], [0, sym.sin(phi), sym.cos(phi)]])\n",
    "R_body_in_world = Rz @ Ry @ Rx\n",
    "\n",
    "# angular velocity to angular rates\n",
    "ex = sym.Matrix([[1], [0], [0]])\n",
    "ey = sym.Matrix([[0], [1], [0]])\n",
    "ez = sym.Matrix([[0], [0], [1]])\n",
    "M = sym.simplify(sym.Matrix.hstack((Ry @ Rx).T @ ez, Rx.T @ ey, ex).inv(), full=True)\n",
    "\n",
    "# applied forces\n",
    "f_in_body = R_body_in_world.T @ sym.Matrix([[0], [0], [-m * g]]) + sym.Matrix([[0], [0], [f_z]])\n",
    "\n",
    "# applied torques\n",
    "tau_in_body = sym.Matrix([[tau_x], [tau_y], [tau_z]])\n",
    "\n",
    "# equations of motion\n",
    "f = sym.Matrix.vstack(\n",
    "    R_body_in_world * v_in_body,\n",
    "    M * w_in_body,\n",
    "    (1 / m) * (f_in_body - w_in_body.cross(m * v_in_body)),\n",
    "    J.inv() * (tau_in_body - w_in_body.cross(J * w_in_body)),\n",
    ")\n",
    "\n",
    "f = sym.simplify(f, full=True)"
   ]
  },
  {
   "cell_type": "markdown",
   "id": "575b5c40",
   "metadata": {},
   "source": [
    "Here is the function $f$:"
   ]
  },
  {
   "cell_type": "code",
   "execution_count": 6,
   "id": "9d92b7d9",
   "metadata": {},
   "outputs": [
    {
     "data": {
      "image/png": "[encoded data removed]",
      "text/latex": [
       "$\\displaystyle \\left[\\begin{matrix}v_{x} \\cos{\\left(\\psi \\right)} \\cos{\\left(\\theta \\right)} + v_{y} \\left(\\sin{\\left(\\phi \\right)} \\sin{\\left(\\theta \\right)} \\cos{\\left(\\psi \\right)} - \\sin{\\left(\\psi \\right)} \\cos{\\left(\\phi \\right)}\\right) + v_{z} \\left(\\sin{\\left(\\phi \\right)} \\sin{\\left(\\psi \\right)} + \\sin{\\left(\\theta \\right)} \\cos{\\left(\\phi \\right)} \\cos{\\left(\\psi \\right)}\\right)\\\\v_{x} \\sin{\\left(\\psi \\right)} \\cos{\\left(\\theta \\right)} + v_{y} \\left(\\sin{\\left(\\phi \\right)} \\sin{\\left(\\psi \\right)} \\sin{\\left(\\theta \\right)} + \\cos{\\left(\\phi \\right)} \\cos{\\left(\\psi \\right)}\\right) - v_{z} \\left(\\sin{\\left(\\phi \\right)} \\cos{\\left(\\psi \\right)} - \\sin{\\left(\\psi \\right)} \\sin{\\left(\\theta \\right)} \\cos{\\left(\\phi \\right)}\\right)\\\\- v_{x} \\sin{\\left(\\theta \\right)} + v_{y} \\sin{\\left(\\phi \\right)} \\cos{\\left(\\theta \\right)} + v_{z} \\cos{\\left(\\phi \\right)} \\cos{\\left(\\theta \\right)}\\\\\\frac{w_{y} \\sin{\\left(\\phi \\right)} + w_{z} \\cos{\\left(\\phi \\right)}}{\\cos{\\left(\\theta \\right)}}\\\\w_{y} \\cos{\\left(\\phi \\right)} - w_{z} \\sin{\\left(\\phi \\right)}\\\\w_{x} + w_{y} \\sin{\\left(\\phi \\right)} \\tan{\\left(\\theta \\right)} + w_{z} \\cos{\\left(\\phi \\right)} \\tan{\\left(\\theta \\right)}\\\\v_{y} w_{z} - v_{z} w_{y} + \\frac{981 \\sin{\\left(\\theta \\right)}}{100}\\\\- v_{x} w_{z} + v_{z} w_{x} - \\frac{981 \\sin{\\left(\\phi \\right)} \\cos{\\left(\\theta \\right)}}{100}\\\\2 f_{z} + v_{x} w_{y} - v_{y} w_{x} - \\frac{981 \\cos{\\left(\\phi \\right)} \\cos{\\left(\\theta \\right)}}{100}\\\\\\frac{10000 \\tau_{x}}{23} - \\frac{17 w_{y} w_{z}}{23}\\\\\\frac{10000 \\tau_{y}}{23} + \\frac{17 w_{x} w_{z}}{23}\\\\250 \\tau_{z}\\end{matrix}\\right]$"
      ],
      "text/plain": [
       "⎡vₓ⋅cos(ψ)⋅cos(θ) + v_y⋅(sin(φ)⋅sin(θ)⋅cos(ψ) - sin(ψ)⋅cos(φ)) + v_z⋅(sin(φ)⋅s\n",
       "⎢                                                                             \n",
       "⎢vₓ⋅sin(ψ)⋅cos(θ) + v_y⋅(sin(φ)⋅sin(ψ)⋅sin(θ) + cos(φ)⋅cos(ψ)) - v_z⋅(sin(φ)⋅c\n",
       "⎢                                                                             \n",
       "⎢                            -vₓ⋅sin(θ) + v_y⋅sin(φ)⋅cos(θ) + v_z⋅cos(φ)⋅cos(θ\n",
       "⎢                                                                             \n",
       "⎢                                         w_y⋅sin(φ) + w_z⋅cos(φ)             \n",
       "⎢                                         ───────────────────────             \n",
       "⎢                                                  cos(θ)                     \n",
       "⎢                                                                             \n",
       "⎢                                         w_y⋅cos(φ) - w_z⋅sin(φ)             \n",
       "⎢                                                                             \n",
       "⎢                                wₓ + w_y⋅sin(φ)⋅tan(θ) + w_z⋅cos(φ)⋅tan(θ)   \n",
       "⎢                                                                             \n",
       "⎢                                                          981⋅sin(θ)         \n",
       "⎢                                      v_y⋅w_z - v_z⋅w_y + ──────────         \n",
       "⎢                                                             100             \n",
       "⎢                                                                             \n",
       "⎢                                                      981⋅sin(φ)⋅cos(θ)      \n",
       "⎢                                   -vₓ⋅w_z + v_z⋅wₓ - ─────────────────      \n",
       "⎢                                                             100             \n",
       "⎢                                                                             \n",
       "⎢                                                         981⋅cos(φ)⋅cos(θ)   \n",
       "⎢                               2⋅f_z + vₓ⋅w_y - v_y⋅wₓ - ─────────────────   \n",
       "⎢                                                                100          \n",
       "⎢                                                                             \n",
       "⎢                                          10000⋅τₓ   17⋅w_y⋅w_z              \n",
       "⎢                                          ──────── - ──────────              \n",
       "⎢                                             23          23                  \n",
       "⎢                                                                             \n",
       "⎢                                          10000⋅τ_y   17⋅wₓ⋅w_z              \n",
       "⎢                                          ───────── + ─────────              \n",
       "⎢                                              23          23                 \n",
       "⎢                                                                             \n",
       "⎣                                                 250⋅τ_z                     \n",
       "\n",
       "in(ψ) + sin(θ)⋅cos(φ)⋅cos(ψ))⎤\n",
       "                             ⎥\n",
       "os(ψ) - sin(ψ)⋅sin(θ)⋅cos(φ))⎥\n",
       "                             ⎥\n",
       ")                            ⎥\n",
       "                             ⎥\n",
       "                             ⎥\n",
       "                             ⎥\n",
       "                             ⎥\n",
       "                             ⎥\n",
       "                             ⎥\n",
       "                             ⎥\n",
       "                             ⎥\n",
       "                             ⎥\n",
       "                             ⎥\n",
       "                             ⎥\n",
       "                             ⎥\n",
       "                             ⎥\n",
       "                             ⎥\n",
       "                             ⎥\n",
       "                             ⎥\n",
       "                             ⎥\n",
       "                             ⎥\n",
       "                             ⎥\n",
       "                             ⎥\n",
       "                             ⎥\n",
       "                             ⎥\n",
       "                             ⎥\n",
       "                             ⎥\n",
       "                             ⎥\n",
       "                             ⎥\n",
       "                             ⎥\n",
       "                             ⎥\n",
       "                             ⎥\n",
       "                             ⎦"
      ]
     },
     "execution_count": 6,
     "metadata": {},
     "output_type": "execute_result"
    }
   ],
   "source": [
    "f"
   ]
  },
  {
   "cell_type": "markdown",
   "id": "57d5a35d",
   "metadata": {},
   "source": [
    "Since there are no second order ODEs, we can proceed with linearization."
   ]
  },
  {
   "cell_type": "markdown",
   "id": "2401c501",
   "metadata": {},
   "source": [
    "## Define equilibrium point and verify that $f = 0$"
   ]
  },
  {
   "cell_type": "markdown",
   "id": "7d824e84",
   "metadata": {},
   "source": [
    "Define equilbrium points and set up the function to linearize the system:"
   ]
  },
  {
   "cell_type": "code",
   "execution_count": 7,
   "id": "4edc2a84",
   "metadata": {},
   "outputs": [
    {
     "name": "stdout",
     "output_type": "stream",
     "text": [
      "[[0.]\n",
      " [0.]\n",
      " [0.]\n",
      " [0.]\n",
      " [0.]\n",
      " [0.]\n",
      " [0.]\n",
      " [0.]\n",
      " [0.]\n",
      " [0.]\n",
      " [0.]\n",
      " [0.]]\n"
     ]
    }
   ],
   "source": [
    "p_x_eq = 0. # m\n",
    "p_y_eq = 0. # m\n",
    "p_z_eq = 0. # m\n",
    "psi_eq = 0. # rad\n",
    "theta_eq = 0. # rad\n",
    "phi_eq = 0. # rad\n",
    "v_x_eq = 0. # rad\n",
    "v_y_eq = 0. # rad\n",
    "v_z_eq = 0. # rad\n",
    "w_x_eq = 0. # rad\n",
    "w_y_eq = 0. # rad\n",
    "w_z_eq = 0. # rad\n",
    "tau_x_eq = 0. # rad\n",
    "tau_y_eq = 0. # rad\n",
    "tau_z_eq = 0. # rad\n",
    "f_z_eq = 4.905 # rad\n",
    "\n",
    "f_num = sym.lambdify([p_x, p_y, p_z, psi, theta, phi, v_x, v_y, v_z, w_x, w_y, w_z, tau_x, tau_y, tau_z, f_z], f)\n",
    "f_eq = f_num(p_x_eq, p_y_eq, p_z_eq, psi_eq, theta_eq, phi_eq, v_x_eq, v_y_eq, v_z_eq, w_x_eq, w_y_eq, w_z_eq, tau_x_eq, tau_y_eq, tau_z_eq, f_z_eq)\n",
    "print(f_eq)"
   ]
  },
  {
   "cell_type": "markdown",
   "id": "7d33b49e",
   "metadata": {},
   "source": [
    "## Linearize the system and compute A and B matrices to place the system in state-space form:"
   ]
  },
  {
   "cell_type": "code",
   "execution_count": 8,
   "id": "458a7217",
   "metadata": {},
   "outputs": [
    {
     "name": "stdout",
     "output_type": "stream",
     "text": [
      "A =\n",
      "[[ 0.    0.    0.    0.    0.    0.    1.    0.    0.    0.    0.    0.  ]\n",
      " [ 0.    0.    0.    0.    0.    0.    0.    1.    0.    0.    0.    0.  ]\n",
      " [ 0.    0.    0.    0.   -0.    0.   -0.    0.    1.    0.    0.    0.  ]\n",
      " [ 0.    0.    0.    0.    0.    0.    0.    0.    0.    0.    0.    1.  ]\n",
      " [ 0.    0.    0.    0.    0.   -0.    0.    0.    0.    0.    1.   -0.  ]\n",
      " [ 0.    0.    0.    0.    0.    0.    0.    0.    0.    1.    0.    0.  ]\n",
      " [ 0.    0.    0.    0.    9.81  0.    0.    0.   -0.    0.   -0.    0.  ]\n",
      " [ 0.    0.    0.    0.    0.   -9.81 -0.    0.    0.    0.    0.   -0.  ]\n",
      " [ 0.    0.    0.    0.    0.    0.    0.   -0.    0.   -0.    0.    0.  ]\n",
      " [ 0.    0.    0.    0.    0.    0.    0.    0.    0.    0.   -0.   -0.  ]\n",
      " [ 0.    0.    0.    0.    0.    0.    0.    0.    0.    0.    0.    0.  ]\n",
      " [ 0.    0.    0.    0.    0.    0.    0.    0.    0.    0.    0.    0.  ]]\n",
      "\n",
      "B =\n",
      "[[  0.          0.          0.          0.       ]\n",
      " [  0.          0.          0.          0.       ]\n",
      " [  0.          0.          0.          0.       ]\n",
      " [  0.          0.          0.          0.       ]\n",
      " [  0.          0.          0.          0.       ]\n",
      " [  0.          0.          0.          0.       ]\n",
      " [  0.          0.          0.          0.       ]\n",
      " [  0.          0.          0.          0.       ]\n",
      " [  0.          0.          0.          2.       ]\n",
      " [434.7826087   0.          0.          0.       ]\n",
      " [  0.        434.7826087   0.          0.       ]\n",
      " [  0.          0.        250.          0.       ]]\n",
      "\n"
     ]
    }
   ],
   "source": [
    "f.jacobian([p_x, p_y, p_z, psi, theta, phi, v_x, v_y, v_z, w_x, w_y, w_z])\n",
    "# Create lambda function\n",
    "A_num = sym.lambdify((p_x, p_y, p_z, psi, theta, phi, v_x, v_y, v_z, w_x, w_y, w_z, tau_x, tau_y, tau_z, f_z), f.jacobian([p_x, p_y, p_z, psi, theta, phi, v_x, v_y, v_z, w_x, w_y, w_z]))\n",
    "\n",
    "# Evaluate lambda function at equilibrium point\n",
    "A = A_num(p_x_eq, p_y_eq, p_z_eq, psi_eq, theta_eq, phi_eq, v_x_eq, v_y_eq, v_z_eq, w_x_eq, w_y_eq, w_z_eq, tau_x_eq, tau_y_eq, tau_z_eq, f_z_eq)\n",
    "\n",
    "# Create lambda functions\n",
    "B_num = sym.lambdify([p_x, p_y, p_z, psi, theta, phi, v_x, v_y, v_z, w_x, w_y, w_z, tau_x, tau_y, tau_z, f_z], f.jacobian([tau_x, tau_y, tau_z, f_z]), 'numpy')\n",
    "\n",
    "# Evaluate lambda function at equilibrium point\n",
    "B = B_num(p_x_eq, p_y_eq, p_z_eq, psi_eq, theta_eq, phi_eq, v_x_eq, v_y_eq, v_z_eq, w_x_eq, w_y_eq, w_z_eq, tau_x_eq, tau_y_eq, tau_z_eq, f_z_eq)\n",
    "\n",
    "# Display the result\n",
    "print(f'A =\\n{A}\\n')\n",
    "print(f'B =\\n{B}\\n')"
   ]
  },
  {
   "cell_type": "markdown",
   "id": "2114430d",
   "metadata": {},
   "source": [
    "## Determine if the system is controllable"
   ]
  },
  {
   "cell_type": "markdown",
   "id": "b2f03423",
   "metadata": {},
   "source": [
    "Compute the controllability matrix $\\boldsymbol{W}_c$ and confirm that it is full rank (since we have 12 states we need to check the rank(W) and ensure it equals 12):"
   ]
  },
  {
   "cell_type": "code",
   "execution_count": 9,
   "id": "783a0d69",
   "metadata": {
    "scrolled": true
   },
   "outputs": [
    {
     "name": "stdout",
     "output_type": "stream",
     "text": [
      "Largest possible rank = 12\n",
      "\n",
      "Rank of controllability matrix = 12\n",
      "\n"
     ]
    }
   ],
   "source": [
    "n = A.shape[0]\n",
    "\n",
    "# Initialize W with its first column\n",
    "W = B\n",
    "\n",
    "# Create W one column at a time by iterating over i from 1 to n-1\n",
    "for i in range(1, n):\n",
    "    col = np.linalg.matrix_power(A, i) @ B\n",
    "    W = np.block([W, col])\n",
    "    \n",
    "# print(W)\n",
    "r = np.linalg.matrix_rank(W)\n",
    "print(f'Largest possible rank = {A.shape[0]}\\n')\n",
    "print(f'Rank of controllability matrix = {r}\\n')"
   ]
  },
  {
   "cell_type": "markdown",
   "id": "12a7e9d4",
   "metadata": {},
   "source": [
    "Since the rank(W) = 12, this system is controllable. Now, we can go ahead and linearlize the sensor model and ensure that the system is observable."
   ]
  },
  {
   "cell_type": "markdown",
   "id": "efb675cf",
   "metadata": {},
   "source": [
    "## Get the symbolic form of $g$"
   ]
  },
  {
   "cell_type": "markdown",
   "id": "97e44bff",
   "metadata": {},
   "source": [
    "Define the sensor model."
   ]
  },
  {
   "cell_type": "code",
   "execution_count": 10,
   "id": "08df1a33",
   "metadata": {},
   "outputs": [],
   "source": [
    "g = sym.Matrix([p_x, p_y, p_z, psi])"
   ]
  },
  {
   "cell_type": "markdown",
   "id": "0da206a9",
   "metadata": {},
   "source": [
    "The sensor model has this form:\n",
    "\n",
    "$$o = g(p_x, p_y, p_z, \\psi)$$\n",
    "\n",
    "Here is the function $g$:"
   ]
  },
  {
   "cell_type": "code",
   "execution_count": 11,
   "id": "74c529dd",
   "metadata": {},
   "outputs": [
    {
     "data": {
      "image/png": "[encoded data removed]",
      "text/latex": [
       "$\\displaystyle \\left[\\begin{matrix}p_{x}\\\\p_{y}\\\\p_{z}\\\\\\psi\\end{matrix}\\right]$"
      ],
      "text/plain": [
       "⎡pₓ ⎤\n",
       "⎢   ⎥\n",
       "⎢p_y⎥\n",
       "⎢   ⎥\n",
       "⎢p_z⎥\n",
       "⎢   ⎥\n",
       "⎣ ψ ⎦"
      ]
     },
     "execution_count": 11,
     "metadata": {},
     "output_type": "execute_result"
    }
   ],
   "source": [
    "g"
   ]
  },
  {
   "cell_type": "markdown",
   "id": "0ab410d2",
   "metadata": {},
   "source": [
    "Since there are no second order ODEs, we can proceed with linearization."
   ]
  },
  {
   "cell_type": "markdown",
   "id": "c96d5e46",
   "metadata": {},
   "source": [
    "## Linearize the Sensor Model\n",
    "\n",
    "Linearize the sensor and compute C and D."
   ]
  },
  {
   "cell_type": "code",
   "execution_count": 12,
   "id": "d3bdf354",
   "metadata": {},
   "outputs": [
    {
     "name": "stdout",
     "output_type": "stream",
     "text": [
      "C =\n",
      "[[1 0 0 0 0 0 0 0 0 0 0 0]\n",
      " [0 1 0 0 0 0 0 0 0 0 0 0]\n",
      " [0 0 1 0 0 0 0 0 0 0 0 0]\n",
      " [0 0 0 1 0 0 0 0 0 0 0 0]]\n",
      "\n",
      "D =\n",
      "[[0 0 0 0]\n",
      " [0 0 0 0]\n",
      " [0 0 0 0]\n",
      " [0 0 0 0]]\n",
      "\n"
     ]
    }
   ],
   "source": [
    "g.jacobian([p_x, p_y, p_z, psi, theta, phi, v_x, v_y, v_z, w_x, w_y, w_z])\n",
    "# Create lambda function\n",
    "C_num = sym.lambdify((p_x, p_y, p_z, psi, theta, phi, v_x, v_y, v_z, w_x, w_y, w_z, tau_x, tau_y, tau_z, f_z), g.jacobian([p_x, p_y, p_z, psi, theta, phi, v_x, v_y, v_z, w_x, w_y, w_z]))\n",
    "\n",
    "# Evaluate lambda function at equilibrium point\n",
    "C = C_num(p_x_eq, p_y_eq, p_z_eq, psi_eq, theta_eq, phi_eq, v_x_eq, v_y_eq, v_z_eq, w_x_eq, w_y_eq, w_z_eq, tau_x_eq, tau_y_eq, tau_z_eq, f_z_eq)\n",
    "\n",
    "# Create lambda functions\n",
    "D_num = sym.lambdify([p_x, p_y, p_z, psi, theta, phi, v_x, v_y, v_z, w_x, w_y, w_z, tau_x, tau_y, tau_z, f_z], g.jacobian([tau_x, tau_y, tau_z, f_z]), 'numpy')\n",
    "\n",
    "# Evaluate lambda function at equilibrium point\n",
    "D = D_num(p_x_eq, p_y_eq, p_z_eq, psi_eq, theta_eq, phi_eq, v_x_eq, v_y_eq, v_z_eq, w_x_eq, w_y_eq, w_z_eq, tau_x_eq, tau_y_eq, tau_z_eq, f_z_eq)\n",
    "\n",
    "# Display the result\n",
    "print(f'C =\\n{C}\\n')\n",
    "print(f'D =\\n{D}\\n')"
   ]
  },
  {
   "cell_type": "markdown",
   "id": "3e7ca053",
   "metadata": {},
   "source": [
    "## Determine if the system is observable\n",
    "\n",
    "Compute the observability matrix $\\boldsymbol{W}_O$ and confirm that it is full rank (since we have 12 states we need to check the rank(W_obs) and ensure it equals 12):"
   ]
  },
  {
   "cell_type": "code",
   "execution_count": 13,
   "id": "fc74ae8b",
   "metadata": {},
   "outputs": [
    {
     "name": "stdout",
     "output_type": "stream",
     "text": [
      "Largest possible rank = 12\n",
      "\n",
      "Rank of obervability matrix = 12\n",
      "\n"
     ]
    }
   ],
   "source": [
    "n = A.shape[0]\n",
    "\n",
    "# Initialize W with its first column\n",
    "W_obs = C.T\n",
    "\n",
    "# Create W one column at a time by iterating over i from 1 to n-1\n",
    "for i in range(1, n):\n",
    "    col = np.linalg.matrix_power(A.T, i) @ C.T\n",
    "    W_obs = np.block([W_obs, col])\n",
    "    \n",
    "# print(W_obs)\n",
    "r = np.linalg.matrix_rank(W_obs)\n",
    "print(f'Largest possible rank = {A.shape[0]}\\n')\n",
    "print(f'Rank of obervability matrix = {r}\\n')"
   ]
  },
  {
   "cell_type": "markdown",
   "id": "1937b458",
   "metadata": {},
   "source": [
    "Since the rank(W_obs) = 12, this system is observable. Now, we can go ahead and find the gain matrix K for the controller, the gain matrix L for the observer, and ensure asymptotic stability for both the controller and observer."
   ]
  },
  {
   "cell_type": "markdown",
   "id": "99419953",
   "metadata": {},
   "source": [
    "## Compute a controller gains matrix $K$ using LQR\n",
    "Then verify that the controller is asymptotically stable in theory by verifying all eigenvalues have negative real part."
   ]
  },
  {
   "cell_type": "code",
   "execution_count": 14,
   "id": "10d85ac5",
   "metadata": {},
   "outputs": [
    {
     "name": "stdout",
     "output_type": "stream",
     "text": [
      "K =\n",
      "[[ 0.         -0.2        -0.         -0.          0.          1.11831202\n",
      "   0.         -0.29257283 -0.          0.21247173  0.         -0.        ]\n",
      " [ 0.2         0.          0.         -0.          1.11831202  0.\n",
      "   0.29257283  0.          0.          0.          0.21247173 -0.        ]\n",
      " [-0.          0.         -0.          0.2        -0.         -0.\n",
      "  -0.          0.         -0.         -0.         -0.          0.20396078]\n",
      " [-0.          0.          0.2        -0.         -0.         -0.\n",
      "  -0.          0.          0.48989795 -0.          0.         -0.        ]]\n",
      "\n"
     ]
    }
   ],
   "source": [
    "Q_cont = np.eye(12)\n",
    "R_cont = np.diag([25., 25., 25., 25.])\n",
    "\n",
    "P_cont = linalg.solve_continuous_are(A, B, Q_cont, R_cont)\n",
    "K = linalg.inv(R_cont) @ B.T @ P_cont\n",
    "print(f'K =\\n{K}\\n')"
   ]
  },
  {
   "cell_type": "markdown",
   "id": "5cd7e34a",
   "metadata": {},
   "source": [
    "Now that we have found the K matrix, we can check that this controller is asymptotically stable by checking that the real components of the eigenvalues of the (A-BK) matrix are negative."
   ]
  },
  {
   "cell_type": "code",
   "execution_count": 15,
   "id": "f367beba",
   "metadata": {},
   "outputs": [
    {
     "name": "stdout",
     "output_type": "stream",
     "text": [
      "[-86.95084399+0.j         -86.95084399+0.j\n",
      " -49.989995  +0.j          -2.21408379+2.21550601j\n",
      "  -2.21408379-2.21550601j  -2.21408379+2.21550601j\n",
      "  -2.21408379-2.21550601j  -0.48989795+0.4j\n",
      "  -0.48989795-0.4j         -1.00000068+0.j\n",
      "  -1.00000068-0.j          -1.00020014+0.j        ]\n"
     ]
    }
   ],
   "source": [
    "F = A - (B@K)\n",
    "s = np.linalg.eigvals(F)\n",
    "print(s)"
   ]
  },
  {
   "cell_type": "markdown",
   "id": "93751965",
   "metadata": {},
   "source": [
    "Since all the real components of the eigenvalues of the (A-BK) matrix are negative, the controller is deemed to be asymptotically stable. Now, we can go ahead and find the gain matrix for the observer L, and check that the observer is asymptotically stable."
   ]
  },
  {
   "cell_type": "markdown",
   "id": "15879db9",
   "metadata": {},
   "source": [
    "## Compute an observer gains matrix $L$ using LQR\n",
    "Then verify that the observer is asymptotically stable in theory by verifying all eigenvalues have negative real part."
   ]
  },
  {
   "cell_type": "code",
   "execution_count": 16,
   "id": "463e140b",
   "metadata": {},
   "outputs": [
    {
     "name": "stdout",
     "output_type": "stream",
     "text": [
      "L =\n",
      "[[10.16512352  0.          0.          0.        ]\n",
      " [ 0.         10.16512352  0.          0.        ]\n",
      " [ 0.          0.          5.91607978  0.        ]\n",
      " [ 0.          0.          0.          5.91607978]\n",
      " [ 8.05750662  0.          0.          0.        ]\n",
      " [ 0.         -8.05750662  0.         -0.        ]\n",
      " [39.16486808  0.          0.          0.        ]\n",
      " [ 0.         39.16486808  0.          0.        ]\n",
      " [ 0.          0.          5.          0.        ]\n",
      " [ 0.         -5.          0.         -0.        ]\n",
      " [ 5.          0.          0.          0.        ]\n",
      " [ 0.          0.          0.          5.        ]]\n",
      "\n"
     ]
    }
   ],
   "source": [
    "Q_obs = np.diag([25., 25., 25., 25.])\n",
    "R_obs = np.eye(12)\n",
    "\n",
    "P_obs = linalg.solve_continuous_are(A.T, C.T, linalg.inv(R_obs), linalg.inv(Q_obs))\n",
    "L = P_obs @ C.T @ Q_obs\n",
    "print(f'L =\\n{L}\\n')"
   ]
  },
  {
   "cell_type": "markdown",
   "id": "ae548dc4",
   "metadata": {},
   "source": [
    "Now that we have found the L matrix, we can check that this observer is asymptotically stable by checking that the real components of the eigenvalues of the (A-LC) matrix are negative."
   ]
  },
  {
   "cell_type": "code",
   "execution_count": 17,
   "id": "abfd1bd5",
   "metadata": {},
   "outputs": [
    {
     "name": "stdout",
     "output_type": "stream",
     "text": [
      "[-1.97424506+2.34593414j -1.97424506-2.34593414j -1.97424506+2.34593414j\n",
      " -1.97424506-2.34593414j -5.21642741+0.j         -5.21642741+0.j\n",
      " -1.000206  +0.j         -1.000206  +0.j         -4.89453156+0.j\n",
      " -4.89453156+0.j         -1.02154822+0.j         -1.02154822+0.j        ]\n"
     ]
    }
   ],
   "source": [
    "F = A - (L@C)\n",
    "s = np.linalg.eigvals(F)\n",
    "print(s)"
   ]
  },
  {
   "cell_type": "markdown",
   "id": "5dbe4694",
   "metadata": {},
   "source": [
    "Since all the real components of the eigenvalues of the (A-LC) matrix are negative, the observer is deemed to be asymptotically stable. Now, we can go ahead and implement the controller and observer for simulations."
   ]
  },
  {
   "cell_type": "markdown",
   "id": "deb624d5",
   "metadata": {},
   "source": [
    "## Define a controller that maps sensor measurements to actuator commands"
   ]
  },
  {
   "cell_type": "markdown",
   "id": "1dd85de9",
   "metadata": {},
   "source": [
    "Define a controller for the drone with observer implementation."
   ]
  },
  {
   "cell_type": "code",
   "execution_count": 18,
   "id": "064bdbf1",
   "metadata": {},
   "outputs": [],
   "source": [
    "class Controller:\n",
    "    def __init__(self):\n",
    "        self.dt = 0.01 # s\n",
    "        self.p_x_eq = 0.    # m\n",
    "        self.p_y_eq = 0.    # m\n",
    "        self.p_z_eq = 0.    # m\n",
    "        self.psi_eq = 0.    # rad\n",
    "        self.theta_eq = 0.  # rad\n",
    "        self.phi_eq = 0.    # rad\n",
    "        self.v_x_eq = 0.    # rad\n",
    "        self.v_y_eq = 0.    # rad\n",
    "        self.v_z_eq = 0.    # rad\n",
    "        self.w_x_eq = 0.    # rad\n",
    "        self.w_y_eq = 0.    # rad\n",
    "        self.w_z_eq = 0.    # rad\n",
    "        self.tau_x_eq = 0.  # rad\n",
    "        self.tau_y_eq = 0.  # rad\n",
    "        self.tau_z_eq = 0.  # rad\n",
    "        self.f_z_eq = 4.905 # rad\n",
    "        self.A = A\n",
    "        self.B = B\n",
    "        self.C = C\n",
    "        self.K = K\n",
    "        self.L = L\n",
    "        self.reset(0., 0., 0., 0.)\n",
    "\n",
    "    def get_color(self):\n",
    "        return [0., 1., 0.]\n",
    "\n",
    "    def reset(\n",
    "            self,\n",
    "            p_x_meas, p_y_meas, p_z_meas, # <-- measured position of drone (meters)\n",
    "            yaw_meas,                     # <-- measured yaw angle of drone (radians)\n",
    "        ):\n",
    "        self.xhat = np.array([p_x_meas, p_y_meas, p_z_meas, yaw_meas, 0., 0., 0., 0., 0., 0., 0., 0.]) # Define initial state estimate\n",
    "\n",
    "    def run(\n",
    "            self,\n",
    "            p_x_meas, p_y_meas, p_z_meas, # <-- measured position of drone (meters)\n",
    "            yaw_meas,                     # <-- measured yaw angle of drone (radians)\n",
    "            p_x_ring, p_y_ring, p_z_ring, # <-- center position of next ring (meters)\n",
    "            is_last_ring,                 # <-- True if next ring is the last ring, False otherwise\n",
    "            pos_others,                   # <-- 2d array of size n x 3, where n is the number\n",
    "                                          #     of all *other* drones - the ith row in this array\n",
    "                                          #     has the coordinates [x_i, y_i, z_i], in meters, of\n",
    "                                          #     the ith other drone\n",
    "        ):\n",
    "        # Find desired input\n",
    "        self.u_des = np.array([0., 0., 0., 0.])\n",
    "        \n",
    "        # Find desired state\n",
    "        self.x_des = np.array([0., 0., 0., 0., 0., 0., 0., 0., 0., 0., 0., 0.]) # Initialize the desired state\n",
    "        \n",
    "        if p_z_meas < 0.5: # We want the vertical height of the drone to clear the initial ring, so we make the drone achieve a height of 5.0 m before it moves to the next ring\n",
    "            self.x_des[0:3] = np.array([p_x_meas, p_y_meas, 0.8])\n",
    "        else: # Once the desired vertical height is reached, the drone will start moving through the rings\n",
    "            self.phat = self.xhat[0:3]\n",
    "            self.p_ring = np.array([p_x_ring, p_y_ring, p_z_ring])\n",
    "            self.r = 2.0\n",
    "            self.p_des = self.phat + self.r*((self.p_ring - self.phat) / np.linalg.norm(self.p_ring - self.phat))\n",
    "            self.x_des[0:3] = self.p_des\n",
    "        \n",
    "        # Find input\n",
    "        u = self.u_des - self.K @ (self.xhat - self.x_des)\n",
    "        \n",
    "        # implement system output\n",
    "        y = np.array([p_x_meas - self.p_x_eq, p_y_meas - self.p_y_eq, p_z_meas - self.p_z_eq, yaw_meas - self.psi_eq])\n",
    "        \n",
    "        # Find state estimate\n",
    "        self.xhat += self.dt * (self.A @ self.xhat + self.B @ u - self.L@(self.C@self.xhat - y))\n",
    "        \n",
    "        tau_x = u[0] + self.tau_x_eq\n",
    "        tau_y = u[1] + self.tau_y_eq\n",
    "        tau_z = u[2] + self.tau_z_eq\n",
    "        f_z   = u[3] + self.f_z_eq\n",
    "\n",
    "        return tau_x, tau_y, tau_z, f_z"
   ]
  },
  {
   "cell_type": "markdown",
   "id": "4b1cae51",
   "metadata": {},
   "source": [
    "Add the drone to the simulator. There are three arguments:\n",
    "\n",
    "* `Controller` is the class definition\n",
    "* `'my_netid'` is the name of the drone\n",
    "* `'my_image.png'` is the name of an image to use as a label (can be `None`, can be a file path)\n",
    "\n",
    "You can call this function more than once, so long as you call it with a different drone name each time. An exception will be raised if you try to add two drones of the same name to the simulator."
   ]
  },
  {
   "cell_type": "code",
   "execution_count": 19,
   "id": "87c37767",
   "metadata": {},
   "outputs": [],
   "source": [
    "simulator.add_drone(Controller, 'my_netid', 'my_image.png')"
   ]
  },
  {
   "cell_type": "markdown",
   "id": "bc797d3a",
   "metadata": {},
   "source": [
    "Reset the drone (i.e., place it at a random location in the start ring)."
   ]
  },
  {
   "cell_type": "code",
   "execution_count": 20,
   "id": "24d7a192",
   "metadata": {},
   "outputs": [],
   "source": [
    "simulator.reset()"
   ]
  },
  {
   "cell_type": "markdown",
   "id": "9c341f24",
   "metadata": {},
   "source": [
    "Run simulation until `max_time` is reached or until the drone reaches the finish ring."
   ]
  },
  {
   "cell_type": "code",
   "execution_count": 21,
   "id": "c025941f",
   "metadata": {},
   "outputs": [],
   "source": [
    "simulator.camera_finishview()"
   ]
  },
  {
   "cell_type": "code",
   "execution_count": 22,
   "id": "84d61286",
   "metadata": {
    "scrolled": true
   },
   "outputs": [
    {
     "name": "stdout",
     "output_type": "stream",
     "text": [
      "FINISHED: drone \"my_netid\" at time 33.19\n"
     ]
    }
   ],
   "source": [
    "simulator.run(max_time=45.0)"
   ]
  },
  {
   "cell_type": "markdown",
   "id": "f77c7c26",
   "metadata": {},
   "source": [
    "Get results."
   ]
  },
  {
   "cell_type": "code",
   "execution_count": 23,
   "id": "0ca52b31",
   "metadata": {},
   "outputs": [],
   "source": [
    "(\n",
    "    did_it_fail,\n",
    "    did_it_finish,\n",
    "    what_time_did_it_finish,\n",
    ") = simulator.get_result('my_netid')"
   ]
  },
  {
   "cell_type": "markdown",
   "id": "ef75f2d1",
   "metadata": {},
   "source": [
    "Show results."
   ]
  },
  {
   "cell_type": "code",
   "execution_count": 24,
   "id": "7ce5abb4",
   "metadata": {},
   "outputs": [
    {
     "name": "stdout",
     "output_type": "stream",
     "text": [
      "The drone finished at time 33.19\n"
     ]
    }
   ],
   "source": [
    "if did_it_fail:\n",
    "    print('The drone failed before finishing.')\n",
    "elif did_it_finish:\n",
    "    print(f'The drone finished at time {what_time_did_it_finish}')\n",
    "else:\n",
    "    print('The drone did not finish (yet).')"
   ]
  },
  {
   "cell_type": "markdown",
   "id": "52ee5343",
   "metadata": {},
   "source": [
    "Get data."
   ]
  },
  {
   "cell_type": "code",
   "execution_count": 25,
   "id": "b23ee85f",
   "metadata": {},
   "outputs": [],
   "source": [
    "data = simulator.get_data('my_netid')"
   ]
  },
  {
   "cell_type": "code",
   "execution_count": 26,
   "id": "0d80ad45",
   "metadata": {
    "scrolled": false
   },
   "outputs": [
    {
     "data": {
      "text/plain": [
       "{'t': array([ 0.  ,  0.01,  0.02, ..., 33.16, 33.17, 33.18]),\n",
       " 'p_x': array([-0.95527919, -0.95511621, -0.95495414, ..., 30.08155011,\n",
       "        30.08813214, 30.09453351]),\n",
       " 'p_y': array([ 0.56477911,  0.56479611,  0.56483418, ..., -0.02757808,\n",
       "        -0.02859585, -0.02956416]),\n",
       " 'p_z': array([0.3       , 0.29997151, 0.29996269, ..., 0.5139312 , 0.50880708,\n",
       "        0.50364526]),\n",
       " 'yaw': array([0.00976555, 0.00984019, 0.00988129, ..., 0.00469464, 0.00491078,\n",
       "        0.0051315 ]),\n",
       " 'pitch': array([-0.00060106, -0.00072415, -0.000742  , ..., -0.18293709,\n",
       "        -0.18791843, -0.19293848]),\n",
       " 'roll': array([-0.0210101 , -0.02112693, -0.02129136, ..., -0.05146197,\n",
       "        -0.0523774 , -0.05334522]),\n",
       " 'v_x': array([0.01635362, 0.01628793, 0.01621634, ..., 0.56486309, 0.54358933,\n",
       "        0.52181507]),\n",
       " 'v_y': array([ 0.00031307,  0.00237264,  0.00443982, ..., -0.07577697,\n",
       "        -0.0702041 , -0.06451896]),\n",
       " 'v_z': array([-0.00409232, -0.00206776, -0.00006492, ..., -0.62793877,\n",
       "        -0.63094764, -0.63366769]),\n",
       " 'w_x': array([-0.00926637, -0.01312518, -0.01842789, ..., -0.08416448,\n",
       "        -0.08959453, -0.09440854]),\n",
       " 'w_y': array([ 0.00594056, -0.02350476,  0.01110692, ..., -0.49946623,\n",
       "        -0.49802436, -0.50510271]),\n",
       " 'w_z': array([ 0.01003962,  0.00550099,  0.00321345, ..., -0.00447922,\n",
       "        -0.00472593, -0.00497052]),\n",
       " 'p_x_meas': array([-0.96829832, -0.96581925, -0.93978515, ..., 30.09212263,\n",
       "        30.09646066, 30.1024127 ]),\n",
       " 'p_y_meas': array([ 0.56054128,  0.57154261,  0.5628572 , ..., -0.0331903 ,\n",
       "        -0.03028465, -0.02579596]),\n",
       " 'p_z_meas': array([0.30428194, 0.29044625, 0.31597582, ..., 0.51912965, 0.51725325,\n",
       "        0.4936945 ]),\n",
       " 'yaw_meas': array([0.01025533, 0.01074868, 0.01049245, ..., 0.00504396, 0.00478176,\n",
       "        0.00459435]),\n",
       " 'p_x_ring': array([ 5.,  5.,  5., ..., 30., 30., 30.]),\n",
       " 'p_y_ring': array([3.82266565, 3.82266565, 3.82266565, ..., 0.        , 0.        ,\n",
       "        0.        ]),\n",
       " 'p_z_ring': array([2.72141531, 2.72141531, 2.72141531, ..., 0.25      , 0.25      ,\n",
       "        0.25      ]),\n",
       " 'is_last_ring': array([False, False, False, ...,  True,  True,  True]),\n",
       " 'tau_x': array([-0.00088833, -0.0012213 ,  0.00523615, ..., -0.00125666,\n",
       "        -0.00111555,  0.04610421]),\n",
       " 'tau_y': array([-0.00677285,  0.00795969,  0.01285119, ...,  0.0002618 ,\n",
       "        -0.0016983 ,  0.14686123]),\n",
       " 'tau_z': array([-0.00181384, -0.00091509, -0.00047499, ..., -0.00010385,\n",
       "        -0.00010152, -0.00009154]),\n",
       " 'f_z': array([5.00516464, 5.00399778, 5.00335141, ..., 4.78215934, 4.78742753,\n",
       "        5.2215257 ]),\n",
       " 'tau_x_cmd': array([-0.00088833, -0.0012213 ,  0.00523615, ..., -0.00125666,\n",
       "        -0.00111555,  0.04610421]),\n",
       " 'tau_y_cmd': array([-0.00677285,  0.00795969,  0.01285119, ...,  0.0002618 ,\n",
       "        -0.0016983 ,  0.14686123]),\n",
       " 'tau_z_cmd': array([-0.00181384, -0.00091509, -0.00047499, ..., -0.00010385,\n",
       "        -0.00010152, -0.00009154]),\n",
       " 'f_z_cmd': array([5.00516464, 5.00399778, 5.00335141, ..., 4.78215934, 4.78742753,\n",
       "        5.2215257 ]),\n",
       " 'run_time': array([0.00021911, 0.0004499 , 0.00007415, ..., 0.00007796, 0.00007892,\n",
       "        0.00005794])}"
      ]
     },
     "execution_count": 26,
     "metadata": {},
     "output_type": "execute_result"
    }
   ],
   "source": [
    "data"
   ]
  },
  {
   "cell_type": "markdown",
   "id": "b819a089",
   "metadata": {},
   "source": [
    "## Run the simulator and collect data for 100 simulations"
   ]
  },
  {
   "cell_type": "code",
   "execution_count": 28,
   "id": "d737854d",
   "metadata": {
    "scrolled": true
   },
   "outputs": [
    {
     "name": "stdout",
     "output_type": "stream",
     "text": [
      "\n",
      "==========\n",
      "error on run of drone my_netid (turning it off):\n",
      "==========\n",
      "Traceback (most recent call last):\n",
      "  File \"/Users/patrickthornton/Desktop/ae353 - Design Projects/ae353-DP4-drone/ae353_drone.py\", line 791, in step\n",
      "    raise Exception(f'Run timeout exceeded: {controller_run_time} > {self.max_controller_run_time}')\n",
      "Exception: Run timeout exceeded: 0.005357027053833008 > 0.005\n",
      "==========\n",
      "\n",
      "\n",
      "==========\n",
      "error on run of drone my_netid (turning it off):\n",
      "==========\n",
      "Traceback (most recent call last):\n",
      "  File \"/Users/patrickthornton/Desktop/ae353 - Design Projects/ae353-DP4-drone/ae353_drone.py\", line 791, in step\n",
      "    raise Exception(f'Run timeout exceeded: {controller_run_time} > {self.max_controller_run_time}')\n",
      "Exception: Run timeout exceeded: 0.01623702049255371 > 0.005\n",
      "==========\n",
      "\n",
      "FINISHED: drone \"my_netid\" at time 33.54\n",
      "FINISHED: drone \"my_netid\" at time 33.06\n",
      "FINISHED: drone \"my_netid\" at time 32.26\n",
      "FINISHED: drone \"my_netid\" at time 33.55\n",
      "FINISHED: drone \"my_netid\" at time 32.82\n",
      "\n",
      "==========\n",
      "error on run of drone my_netid (turning it off):\n",
      "==========\n",
      "Traceback (most recent call last):\n",
      "  File \"/Users/patrickthornton/Desktop/ae353 - Design Projects/ae353-DP4-drone/ae353_drone.py\", line 791, in step\n",
      "    raise Exception(f'Run timeout exceeded: {controller_run_time} > {self.max_controller_run_time}')\n",
      "Exception: Run timeout exceeded: 0.011775970458984375 > 0.005\n",
      "==========\n",
      "\n",
      "FINISHED: drone \"my_netid\" at time 33.31\n",
      "FINISHED: drone \"my_netid\" at time 34.10\n",
      "FINISHED: drone \"my_netid\" at time 32.94\n",
      "FINISHED: drone \"my_netid\" at time 32.90\n",
      "FINISHED: drone \"my_netid\" at time 34.12\n",
      "FINISHED: drone \"my_netid\" at time 33.44\n",
      "FINISHED: drone \"my_netid\" at time 32.98\n",
      "FINISHED: drone \"my_netid\" at time 33.14\n",
      "FINISHED: drone \"my_netid\" at time 34.12\n",
      "FINISHED: drone \"my_netid\" at time 33.21\n",
      "FINISHED: drone \"my_netid\" at time 33.12\n",
      "FINISHED: drone \"my_netid\" at time 32.43\n",
      "FINISHED: drone \"my_netid\" at time 32.69\n",
      "FINISHED: drone \"my_netid\" at time 33.11\n",
      "FINISHED: drone \"my_netid\" at time 33.63\n",
      "\n",
      "==========\n",
      "error on run of drone my_netid (turning it off):\n",
      "==========\n",
      "Traceback (most recent call last):\n",
      "  File \"/Users/patrickthornton/Desktop/ae353 - Design Projects/ae353-DP4-drone/ae353_drone.py\", line 791, in step\n",
      "    raise Exception(f'Run timeout exceeded: {controller_run_time} > {self.max_controller_run_time}')\n",
      "Exception: Run timeout exceeded: 0.028864145278930664 > 0.005\n",
      "==========\n",
      "\n",
      "FINISHED: drone \"my_netid\" at time 31.72\n",
      "FINISHED: drone \"my_netid\" at time 33.97\n",
      "FINISHED: drone \"my_netid\" at time 32.61\n",
      "FINISHED: drone \"my_netid\" at time 33.36\n",
      "FINISHED: drone \"my_netid\" at time 34.00\n",
      "FINISHED: drone \"my_netid\" at time 32.87\n",
      "FINISHED: drone \"my_netid\" at time 32.79\n",
      "FINISHED: drone \"my_netid\" at time 33.28\n",
      "FINISHED: drone \"my_netid\" at time 33.80\n",
      "FINISHED: drone \"my_netid\" at time 33.30\n",
      "FINISHED: drone \"my_netid\" at time 34.25\n",
      "\n",
      "==========\n",
      "error on run of drone my_netid (turning it off):\n",
      "==========\n",
      "Traceback (most recent call last):\n",
      "  File \"/Users/patrickthornton/Desktop/ae353 - Design Projects/ae353-DP4-drone/ae353_drone.py\", line 791, in step\n",
      "    raise Exception(f'Run timeout exceeded: {controller_run_time} > {self.max_controller_run_time}')\n",
      "Exception: Run timeout exceeded: 0.010322093963623047 > 0.005\n",
      "==========\n",
      "\n",
      "FINISHED: drone \"my_netid\" at time 33.24\n",
      "FINISHED: drone \"my_netid\" at time 32.63\n",
      "FINISHED: drone \"my_netid\" at time 32.54\n",
      "FINISHED: drone \"my_netid\" at time 33.26\n",
      "FINISHED: drone \"my_netid\" at time 33.40\n",
      "FINISHED: drone \"my_netid\" at time 34.08\n",
      "FINISHED: drone \"my_netid\" at time 32.79\n",
      "FINISHED: drone \"my_netid\" at time 33.18\n",
      "FINISHED: drone \"my_netid\" at time 33.21\n",
      "FINISHED: drone \"my_netid\" at time 33.29\n",
      "FINISHED: drone \"my_netid\" at time 32.25\n",
      "FINISHED: drone \"my_netid\" at time 33.50\n",
      "FINISHED: drone \"my_netid\" at time 33.74\n",
      "FINISHED: drone \"my_netid\" at time 33.06\n",
      "\n",
      "==========\n",
      "error on run of drone my_netid (turning it off):\n",
      "==========\n",
      "Traceback (most recent call last):\n",
      "  File \"/Users/patrickthornton/Desktop/ae353 - Design Projects/ae353-DP4-drone/ae353_drone.py\", line 791, in step\n",
      "    raise Exception(f'Run timeout exceeded: {controller_run_time} > {self.max_controller_run_time}')\n",
      "Exception: Run timeout exceeded: 0.005324125289916992 > 0.005\n",
      "==========\n",
      "\n",
      "FINISHED: drone \"my_netid\" at time 33.93\n",
      "FINISHED: drone \"my_netid\" at time 32.93\n",
      "\n",
      "==========\n",
      "error on run of drone my_netid (turning it off):\n",
      "==========\n",
      "Traceback (most recent call last):\n",
      "  File \"/Users/patrickthornton/Desktop/ae353 - Design Projects/ae353-DP4-drone/ae353_drone.py\", line 791, in step\n",
      "    raise Exception(f'Run timeout exceeded: {controller_run_time} > {self.max_controller_run_time}')\n",
      "Exception: Run timeout exceeded: 0.009426355361938477 > 0.005\n",
      "==========\n",
      "\n",
      "FINISHED: drone \"my_netid\" at time 33.90\n",
      "\n",
      "==========\n",
      "error on run of drone my_netid (turning it off):\n",
      "==========\n",
      "Traceback (most recent call last):\n",
      "  File \"/Users/patrickthornton/Desktop/ae353 - Design Projects/ae353-DP4-drone/ae353_drone.py\", line 791, in step\n",
      "    raise Exception(f'Run timeout exceeded: {controller_run_time} > {self.max_controller_run_time}')\n",
      "Exception: Run timeout exceeded: 0.026745080947875977 > 0.005\n",
      "==========\n",
      "\n",
      "FINISHED: drone \"my_netid\" at time 33.10\n",
      "FINISHED: drone \"my_netid\" at time 33.32\n",
      "FINISHED: drone \"my_netid\" at time 34.09\n",
      "FINISHED: drone \"my_netid\" at time 33.98\n",
      "FINISHED: drone \"my_netid\" at time 33.78\n",
      "FINISHED: drone \"my_netid\" at time 33.14\n",
      "FINISHED: drone \"my_netid\" at time 33.22\n",
      "FINISHED: drone \"my_netid\" at time 33.88\n",
      "\n",
      "==========\n",
      "error on run of drone my_netid (turning it off):\n",
      "==========\n",
      "Traceback (most recent call last):\n",
      "  File \"/Users/patrickthornton/Desktop/ae353 - Design Projects/ae353-DP4-drone/ae353_drone.py\", line 791, in step\n",
      "    raise Exception(f'Run timeout exceeded: {controller_run_time} > {self.max_controller_run_time}')\n",
      "Exception: Run timeout exceeded: 0.010418891906738281 > 0.005\n",
      "==========\n",
      "\n",
      "FINISHED: drone \"my_netid\" at time 33.20\n",
      "FINISHED: drone \"my_netid\" at time 33.35\n",
      "FINISHED: drone \"my_netid\" at time 32.79\n",
      "FINISHED: drone \"my_netid\" at time 32.37\n",
      "\n",
      "==========\n",
      "error on run of drone my_netid (turning it off):\n",
      "==========\n",
      "Traceback (most recent call last):\n",
      "  File \"/Users/patrickthornton/Desktop/ae353 - Design Projects/ae353-DP4-drone/ae353_drone.py\", line 791, in step\n",
      "    raise Exception(f'Run timeout exceeded: {controller_run_time} > {self.max_controller_run_time}')\n",
      "Exception: Run timeout exceeded: 0.12074494361877441 > 0.005\n",
      "==========\n",
      "\n",
      "FINISHED: drone \"my_netid\" at time 34.00\n",
      "FINISHED: drone \"my_netid\" at time 32.52\n",
      "FINISHED: drone \"my_netid\" at time 33.18\n",
      "FINISHED: drone \"my_netid\" at time 33.83\n",
      "FINISHED: drone \"my_netid\" at time 32.91\n",
      "FINISHED: drone \"my_netid\" at time 34.14\n",
      "FINISHED: drone \"my_netid\" at time 32.95\n",
      "FINISHED: drone \"my_netid\" at time 32.78\n",
      "FINISHED: drone \"my_netid\" at time 33.32\n",
      "FINISHED: drone \"my_netid\" at time 32.27\n",
      "FINISHED: drone \"my_netid\" at time 31.84\n",
      "FINISHED: drone \"my_netid\" at time 34.02\n",
      "FINISHED: drone \"my_netid\" at time 33.42\n",
      "FINISHED: drone \"my_netid\" at time 33.05\n",
      "FINISHED: drone \"my_netid\" at time 32.67\n",
      "FINISHED: drone \"my_netid\" at time 33.22\n",
      "FINISHED: drone \"my_netid\" at time 32.30\n",
      "FINISHED: drone \"my_netid\" at time 32.24\n",
      "FINISHED: drone \"my_netid\" at time 32.90\n"
     ]
    }
   ],
   "source": [
    "# turn off runtime error\n",
    "\n",
    "# set number of simulations to run in aggregate and the max time of each\n",
    "agg_sim_count = 100\n",
    "agg_sim_time  = 60.0\n",
    "\n",
    "# create lists for storing aggregate results\n",
    "completion_time_list = []\n",
    "# finish_time          = np.zeros(agg_sim_count)\n",
    "agg_data_list        = []\n",
    "\n",
    "# initialize variables to count failures or finishes\n",
    "fail_count   = 0\n",
    "finish_count = 0\n",
    "dnf_count    = 0\n",
    "\n",
    "# run the simulator until data is collected for multiple simulations\n",
    "while len(completion_time_list) < agg_sim_count:\n",
    "    \n",
    "    # reset the drone (i.e., place it at a random location in the start ring)\n",
    "    simulator.reset()\n",
    "    \n",
    "    # run the simulator for 60 seconds\n",
    "    simulator.run(max_time=agg_sim_time)\n",
    "    \n",
    "    # get results for one simulation\n",
    "    (\n",
    "    did_it_fail,\n",
    "    did_it_finish,\n",
    "    what_time_did_it_finish,\n",
    "    ) = simulator.get_result('my_netid')\n",
    "    \n",
    "    # update results counters and store completion time\n",
    "    if did_it_fail:\n",
    "        fail_count += 1\n",
    "        completion_time_list.append(0) # store failures as 0\n",
    "        \n",
    "    elif did_it_finish:\n",
    "        finish_count += 1\n",
    "        completion_time_list.append(what_time_did_it_finish)\n",
    "        \n",
    "    else:\n",
    "        dnf_count += 1\n",
    "        completion_time_list.append(0) # store DNF as 0\n",
    "        \n",
    "    # get data for one simulation\n",
    "    data = simulator.get_data('my_netid')\n",
    "    \n",
    "    # store data in list of aggregate results\n",
    "    agg_data_list.append(data)"
   ]
  },
  {
   "cell_type": "markdown",
   "id": "9c9e6d18",
   "metadata": {},
   "source": [
    "## Plot and save a histogram of race completion times\n",
    "\n",
    "Failures and DNFs are stored as 0 seconds"
   ]
  },
  {
   "cell_type": "code",
   "execution_count": 31,
   "id": "cb911fa1",
   "metadata": {},
   "outputs": [
    {
     "name": "stdout",
     "output_type": "stream",
     "text": [
      "10\n",
      "12\n",
      "79\n"
     ]
    }
   ],
   "source": [
    "print(fail_count)\n",
    "print(dnf_count)\n",
    "print(finish_count)"
   ]
  },
  {
   "cell_type": "code",
   "execution_count": 29,
   "id": "e2e1e706",
   "metadata": {},
   "outputs": [
    {
     "data": {
      "image/png": "[encoded data removed]",
      "text/plain": [
       "<Figure size 432x288 with 1 Axes>"
      ]
     },
     "metadata": {
      "needs_background": "light"
     },
     "output_type": "display_data"
    }
   ],
   "source": [
    "fig, ax = plt.subplots(1, 1, figsize=(6, 4), tight_layout=True)\n",
    "\n",
    "ax.hist(completion_time_list, 41)\n",
    "ax.set_xlabel(\"Time to Complete Race (s)\")\n",
    "ax.set_ylabel(\"Number of Trials\")\n",
    "# ax.set_yticks([0, 5, 10, 15, 20])\n",
    "\n",
    "plt.show()\n",
    "fig.savefig('completion_times.png', facecolor='white', transparent=False)\n"
   ]
  },
  {
   "cell_type": "code",
   "execution_count": 35,
   "id": "e0ca0b09",
   "metadata": {
    "scrolled": true
   },
   "outputs": [
    {
     "data": {
      "text/plain": [
       "{'t': array([0.  , 0.01, 0.02, 0.03, 0.04, 0.05, 0.06, 0.07, 0.08, 0.09, 0.1 ,\n",
       "        0.11, 0.12, 0.13, 0.14, 0.15, 0.16, 0.17, 0.18, 0.19, 0.2 , 0.21,\n",
       "        0.22]),\n",
       " 'p_x': array([-0.97758808, -0.97774344, -0.97791092, -0.97809048, -0.97828212,\n",
       "        -0.97848579, -0.97870123, -0.97892805, -0.97916596, -0.97941479,\n",
       "        -0.97967443, -0.97994475, -0.98022564, -0.98051688, -0.98081813,\n",
       "        -0.98112895, -0.98144895, -0.98177773, -0.9821148 , -0.98245974,\n",
       "        -0.98281214, -0.98317146, -0.98353704]),\n",
       " 'p_y': array([1.13768253, 1.1377447 , 1.1377982 , 1.13784303, 1.13787904,\n",
       "        1.13790601, 1.1379237 , 1.13793173, 1.1379297 , 1.13791735,\n",
       "        1.13789446, 1.13786082, 1.13781627, 1.13776074, 1.13769414,\n",
       "        1.1376163 , 1.13752709, 1.13742628, 1.13731339, 1.13718782,\n",
       "        1.13704892, 1.13689608, 1.13672871]),\n",
       " 'p_z': array([0.3       , 0.29987149, 0.29976347, 0.29967568, 0.29960776,\n",
       "        0.2995594 , 0.29953032, 0.29952027, 0.299529  , 0.29955624,\n",
       "        0.29960168, 0.29966501, 0.29974589, 0.29984401, 0.29995912,\n",
       "        0.30009098, 0.30023939, 0.30040414, 0.30058507, 0.300782  ,\n",
       "        0.30099462, 0.30122267, 0.30146595]),\n",
       " 'yaw': array([0.01002341, 0.01006405, 0.01006559, 0.01004854, 0.01002578,\n",
       "        0.01000299, 0.00997919, 0.00995446, 0.00993011, 0.00990764,\n",
       "        0.00988701, 0.00986884, 0.0098534 , 0.00984   , 0.00982645,\n",
       "        0.00981217, 0.00979846, 0.00978585, 0.00977258, 0.00976287,\n",
       "        0.00975598, 0.00975488, 0.00975425]),\n",
       " 'pitch': array([-0.01228197, -0.01223571, -0.01221372, -0.01225073, -0.01209536,\n",
       "        -0.01168222, -0.0113612 , -0.01117174, -0.01106502, -0.01094677,\n",
       "        -0.01084897, -0.01070953, -0.01042054, -0.00998217, -0.0095813 ,\n",
       "        -0.0092124 , -0.00876239, -0.00827686, -0.00794673, -0.00744775,\n",
       "        -0.0068853 , -0.00604826, -0.00522528]),\n",
       " 'roll': array([0.00847726, 0.00850923, 0.00856838, 0.00882086, 0.00901565,\n",
       "        0.00938194, 0.00982706, 0.01012114, 0.01037178, 0.01057003,\n",
       "        0.0108167 , 0.01088265, 0.01093775, 0.01115586, 0.01127046,\n",
       "        0.01144275, 0.01182722, 0.01245664, 0.01309899, 0.01373468,\n",
       "        0.01441423, 0.01484478, 0.01495806]),\n",
       " 'v_x': array([-0.01487978, -0.01607756, -0.01727197, -0.01846346, -0.01965506,\n",
       "        -0.02083903, -0.02198796, -0.02309883, -0.02418958, -0.02526706,\n",
       "        -0.02633457, -0.02739048, -0.02843672, -0.02946051, -0.03044454,\n",
       "        -0.03138547, -0.03229253, -0.03315911, -0.03397528, -0.03475666,\n",
       "        -0.03550131, -0.03619419, -0.03681871]),\n",
       " 'v_y': array([ 0.0067858 ,  0.00595187,  0.00511425,  0.00427193,  0.00341211,\n",
       "         0.00252711,  0.00161755,  0.0006624 , -0.00032489, -0.00133532,\n",
       "        -0.00236667, -0.00341917, -0.00448698, -0.00555275, -0.006637  ,\n",
       "        -0.00773724, -0.00884429, -0.00997882, -0.01116646, -0.01241928,\n",
       "        -0.01373001, -0.01511107, -0.01655145]),\n",
       " 'v_z': array([-0.01401992, -0.01193027, -0.00987213, -0.00783693, -0.00584571,\n",
       "        -0.00388676, -0.00195683, -0.0000421 ,  0.00184343,  0.00370668,\n",
       "         0.00553323,  0.00733165,  0.00908693,  0.01081191,  0.01251189,\n",
       "         0.01419092,  0.01584756,  0.01748518,  0.01911753,  0.02072117,\n",
       "         0.02228954,  0.02382864,  0.02533815]),\n",
       " 'w_x': array([ 0.00919242, -0.00031906,  0.00965773,  0.03456685,  0.01038268,\n",
       "         0.05233136,  0.03977723,  0.023143  ,  0.026173  ,  0.01597758,\n",
       "         0.02984341, -0.00738357,  0.0132193 ,  0.02694324,  0.00215086,\n",
       "         0.0262528 ,  0.0457437 ,  0.07324118,  0.05881569,  0.06640812,\n",
       "         0.06887568,  0.02756255,  0.00158787]),\n",
       " 'w_y': array([ 0.00516323,  0.00435841,  0.00090593, -0.00648807,  0.02871637,\n",
       "         0.0488363 ,  0.02202387,  0.01705796,  0.0068003 ,  0.01480049,\n",
       "         0.00673188,  0.01823842,  0.03526486,  0.04895046,  0.03474201,\n",
       "         0.03814928,  0.04908024,  0.04820616,  0.02386738,  0.06548568,\n",
       "         0.0506772 ,  0.10350023,  0.06956307]),\n",
       " 'w_z': array([ 0.0075986 ,  0.00188141, -0.00091268, -0.00212821, -0.00258879,\n",
       "        -0.00269782, -0.002681  , -0.00265153, -0.00247868, -0.00230653,\n",
       "        -0.00208192, -0.00190104, -0.00183308, -0.00181829, -0.00179749,\n",
       "        -0.00187552, -0.00190402, -0.00181617, -0.00170599, -0.00160571,\n",
       "        -0.00140312, -0.00130406, -0.00128436]),\n",
       " 'p_x_meas': array([-0.97290623, -0.97789283, -0.99300884, -0.97619617, -0.95896731,\n",
       "        -0.97186819, -0.97108141, -0.97891044, -0.97493577, -0.98628705,\n",
       "        -0.98645781, -0.98130434, -0.9724868 , -0.98342696, -0.98402038,\n",
       "        -0.97807891, -0.97827474, -1.00379255, -0.98124725, -1.00131763,\n",
       "        -0.9596289 , -0.97291679, -0.99776064]),\n",
       " 'p_y_meas': array([1.14334678, 1.14392324, 1.12912904, 1.15301801, 1.12376668,\n",
       "        1.12784112, 1.13538603, 1.13011251, 1.13626361, 1.12101015,\n",
       "        1.14892039, 1.13924409, 1.13157257, 1.15688694, 1.15192609,\n",
       "        1.14974808, 1.13237371, 1.14097218, 1.12961466, 1.11300866,\n",
       "        1.12702495, 1.13830225, 1.13512377]),\n",
       " 'p_z_meas': array([0.29597933, 0.28542779, 0.31016823, 0.29229875, 0.2988465 ,\n",
       "        0.2833452 , 0.30119519, 0.28995043, 0.31157046, 0.29868437,\n",
       "        0.3162502 , 0.30142559, 0.3007899 , 0.29745411, 0.2974969 ,\n",
       "        0.29692408, 0.28522251, 0.30228795, 0.31807638, 0.2955289 ,\n",
       "        0.30754665, 0.30560503, 0.32370055]),\n",
       " 'yaw_meas': array([0.01130353, 0.00916612, 0.00950123, 0.0099359 , 0.0105815 ,\n",
       "        0.01130435, 0.00879654, 0.00982147, 0.00876358, 0.00973803,\n",
       "        0.01135506, 0.01122387, 0.01053713, 0.01246272, 0.01064805,\n",
       "        0.00899908, 0.00943636, 0.00948389, 0.00775396, 0.00978372,\n",
       "        0.01069511, 0.01020046, 0.0099725 ]),\n",
       " 'p_x_ring': array([5., 5., 5., 5., 5., 5., 5., 5., 5., 5., 5., 5., 5., 5., 5., 5., 5.,\n",
       "        5., 5., 5., 5., 5., 5.]),\n",
       " 'p_y_ring': array([3.82266565, 3.82266565, 3.82266565, 3.82266565, 3.82266565,\n",
       "        3.82266565, 3.82266565, 3.82266565, 3.82266565, 3.82266565,\n",
       "        3.82266565, 3.82266565, 3.82266565, 3.82266565, 3.82266565,\n",
       "        3.82266565, 3.82266565, 3.82266565, 3.82266565, 3.82266565,\n",
       "        3.82266565, 3.82266565, 3.82266565]),\n",
       " 'p_z_ring': array([2.72141531, 2.72141531, 2.72141531, 2.72141531, 2.72141531,\n",
       "        2.72141531, 2.72141531, 2.72141531, 2.72141531, 2.72141531,\n",
       "        2.72141531, 2.72141531, 2.72141531, 2.72141531, 2.72141531,\n",
       "        2.72141531, 2.72141531, 2.72141531, 2.72141531, 2.72141531,\n",
       "        2.72141531, 2.72141531, 2.72141531]),\n",
       " 'is_last_ring': array([False, False, False, False, False, False, False, False, False,\n",
       "        False, False, False, False, False, False, False, False, False,\n",
       "        False, False, False, False, False]),\n",
       " 'tau_x': array([-0.00218711,  0.00229497,  0.00573088, -0.00555986,  0.00965062,\n",
       "        -0.00288307, -0.00382277,  0.00069911, -0.00234285,  0.00319107,\n",
       "        -0.00856071,  0.00473867,  0.00315818, -0.00570071,  0.00554441,\n",
       "         0.00448606,  0.00632982, -0.0033113 ,  0.00175235,  0.00057413,\n",
       "        -0.00949671, -0.00597264,  0.000463  ]),\n",
       " 'tau_y': array([-0.00018472, -0.00079376, -0.00170074,  0.00809786,  0.00463104,\n",
       "        -0.0061628 , -0.00114002, -0.00235793,  0.00184108, -0.00185465,\n",
       "         0.00264769,  0.00391835,  0.00315159, -0.00326362,  0.00078709,\n",
       "         0.00251828, -0.00019613, -0.00559382,  0.00957626, -0.0033998 ,\n",
       "         0.01215656, -0.00779633, -0.00869362]),\n",
       " 'tau_z': array([-0.00228596, -0.00111756, -0.00048657, -0.00018309, -0.00004548,\n",
       "         0.00000513,  0.00001159,  0.0000683 ,  0.00006887,  0.000089  ,\n",
       "         0.00007287,  0.00002615,  0.00000518,  0.00000921, -0.00003271,\n",
       "        -0.00001237,  0.00003282,  0.0000422 ,  0.00004309,  0.00007912,\n",
       "         0.00004762,  0.00001017,  0.00000216]),\n",
       " 'f_z': array([5.00871297, 5.00716845, 5.00604802, 5.00404317, 5.00276156,\n",
       "        5.00127035, 5.00038574, 4.99885757, 4.99778635, 4.99594953,\n",
       "        4.99465244, 4.99275498, 4.9914749 , 4.99025778, 4.98919887,\n",
       "        4.98816623, 4.98718158, 4.9866471 , 4.98548901, 4.98379558,\n",
       "        4.98299609, 4.98177739, 4.98067517]),\n",
       " 'tau_x_cmd': array([-0.00218711,  0.00229497,  0.00573088, -0.00555986,  0.00965062,\n",
       "        -0.00288307, -0.00382277,  0.00069911, -0.00234285,  0.00319107,\n",
       "        -0.00856071,  0.00473867,  0.00315818, -0.00570071,  0.00554441,\n",
       "         0.00448606,  0.00632982, -0.0033113 ,  0.00175235,  0.00057413,\n",
       "        -0.00949671, -0.00597264,  0.000463  ]),\n",
       " 'tau_y_cmd': array([-0.00018472, -0.00079376, -0.00170074,  0.00809786,  0.00463104,\n",
       "        -0.0061628 , -0.00114002, -0.00235793,  0.00184108, -0.00185465,\n",
       "         0.00264769,  0.00391835,  0.00315159, -0.00326362,  0.00078709,\n",
       "         0.00251828, -0.00019613, -0.00559382,  0.00957626, -0.0033998 ,\n",
       "         0.01215656, -0.00779633, -0.00869362]),\n",
       " 'tau_z_cmd': array([-0.00228596, -0.00111756, -0.00048657, -0.00018309, -0.00004548,\n",
       "         0.00000513,  0.00001159,  0.0000683 ,  0.00006887,  0.000089  ,\n",
       "         0.00007287,  0.00002615,  0.00000518,  0.00000921, -0.00003271,\n",
       "        -0.00001237,  0.00003282,  0.0000422 ,  0.00004309,  0.00007912,\n",
       "         0.00004762,  0.00001017,  0.00000216]),\n",
       " 'f_z_cmd': array([5.00871297, 5.00716845, 5.00604802, 5.00404317, 5.00276156,\n",
       "        5.00127035, 5.00038574, 4.99885757, 4.99778635, 4.99594953,\n",
       "        4.99465244, 4.99275498, 4.9914749 , 4.99025778, 4.98919887,\n",
       "        4.98816623, 4.98718158, 4.9866471 , 4.98548901, 4.98379558,\n",
       "        4.98299609, 4.98177739, 4.98067517]),\n",
       " 'run_time': array([0.00012684, 0.00010896, 0.00015879, 0.00008512, 0.00006509,\n",
       "        0.00006008, 0.00006199, 0.00005984, 0.00005984, 0.0000577 ,\n",
       "        0.00008583, 0.00006104, 0.000067  , 0.00073528, 0.00011587,\n",
       "        0.00010514, 0.00011015, 0.00010586, 0.0001111 , 0.00010514,\n",
       "        0.00010419, 0.000103  , 0.00010324])}"
      ]
     },
     "execution_count": 35,
     "metadata": {},
     "output_type": "execute_result"
    }
   ],
   "source": [
    "# for i, value in enumerate()\n",
    "# agg_data_list[0]['p_x']\n",
    "agg_data_list[0]"
   ]
  },
  {
   "cell_type": "markdown",
   "id": "07f39a39",
   "metadata": {},
   "source": [
    "Plot results."
   ]
  },
  {
   "cell_type": "code",
   "execution_count": 27,
   "id": "5612979d",
   "metadata": {},
   "outputs": [
    {
     "data": {
      "image/png": "[encoded data removed]",
      "text/plain": [
       "<Figure size 864x864 with 3 Axes>"
      ]
     },
     "metadata": {
      "needs_background": "light"
     },
     "output_type": "display_data"
    }
   ],
   "source": [
    "# Create a figure with subplots that all share the same x-axis\n",
    "fig, (ax_pos, ax_ori, ax_act) = plt.subplots(3, 1, figsize=(12, 12), sharex=True)\n",
    "\n",
    "# Position\n",
    "ax_pos.plot(data['t'], data['p_x'], label='x (m)', linewidth=3, color='C0')\n",
    "ax_pos.plot(data['t'], data['p_y'], label='y (m)', linewidth=3, color='C1')\n",
    "ax_pos.plot(data['t'], data['p_z'], label='z (m)', linewidth=3, color='C2')\n",
    "ax_pos.plot(data['t'], data['p_x_meas'], '.', label='measured x (m)', markersize=3, color='C0')\n",
    "ax_pos.plot(data['t'], data['p_y_meas'], '.', label='measured y (m)', markersize=3, color='C1')\n",
    "ax_pos.plot(data['t'], data['p_z_meas'], '.', label='measured z (m)', markersize=3, color='C2')\n",
    "ax_pos.grid()\n",
    "ax_pos.legend(fontsize=16, bbox_to_anchor=(1., 1.))\n",
    "ax_pos.tick_params(labelsize=14)\n",
    "\n",
    "# Orientation\n",
    "ax_ori.plot(data['t'], data['yaw'], label='yaw (rad)', linewidth=3)\n",
    "ax_ori.plot(data['t'], data['pitch'], label='pitch (rad)', linewidth=3)\n",
    "ax_ori.plot(data['t'], data['roll'], label='roll (rad)', linewidth=3)\n",
    "ax_ori.plot(data['t'], data['yaw_meas'], '.', label='measured yaw (rad)', markersize=3, color='C0')\n",
    "ax_ori.grid()\n",
    "ax_ori.legend(fontsize=16, bbox_to_anchor=(1., 1.))\n",
    "ax_ori.tick_params(labelsize=14)\n",
    "\n",
    "# Actuator commands\n",
    "ax_act.plot(data['t'], data['tau_x'], label='tau_x (N-m)', linewidth=4)\n",
    "ax_act.plot(data['t'], data['tau_x_cmd'], '--', label='commanded tau_x (N-m)', linewidth=4)\n",
    "ax_act.plot(data['t'], data['tau_y'], label='tau_y (N-m)', linewidth=4)\n",
    "ax_act.plot(data['t'], data['tau_y_cmd'], '--', label='commanded tau_y (N-m)', linewidth=4)\n",
    "ax_act.plot(data['t'], data['tau_z'], label='tau_z (N-m)', linewidth=4)\n",
    "ax_act.plot(data['t'], data['tau_z_cmd'], '--', label='commanded tau_z (N-m)', linewidth=4)\n",
    "ax_act.plot(data['t'], data['f_z'] - (0.5 * 9.81), label='f_z - m g (N)', linewidth=4) # <-- FIXME\n",
    "ax_act.plot(data['t'], data['f_z_cmd'] - (0.5 * 9.81), '--', label='commanded f_z - m g (N)', linewidth=4) # <-- FIXME\n",
    "ax_act.grid()\n",
    "ax_act.legend(fontsize=16, bbox_to_anchor=(1., 1.))\n",
    "ax_act.tick_params(labelsize=14)\n",
    "# ax_act.set_ylim(-10, 10) # <-- FIXME\n",
    "\n",
    "# Set shared x-axis properties\n",
    "ax_act.set_xlabel('time (s)', fontsize=20)\n",
    "ax_act.set_xlim([data['t'][0], data['t'][-1]])\n",
    "\n",
    "# Make the arrangement of subplots look nice\n",
    "fig.tight_layout()\n",
    "plt.show()"
   ]
  },
  {
   "cell_type": "markdown",
   "id": "08b325d7",
   "metadata": {},
   "source": [
    "Save the figure (without transparent background)."
   ]
  },
  {
   "cell_type": "code",
   "execution_count": 27,
   "id": "3b6a8ee2",
   "metadata": {},
   "outputs": [],
   "source": [
    "fig.savefig('my_figure.png', facecolor='white', transparent=False)"
   ]
  },
  {
   "cell_type": "markdown",
   "id": "4c2e0fee",
   "metadata": {},
   "source": [
    "Plot histogram of controller run times."
   ]
  },
  {
   "cell_type": "code",
   "execution_count": 28,
   "id": "67f67027",
   "metadata": {},
   "outputs": [
    {
     "data": {
      "image/png": "[encoded data removed]",
      "text/plain": [
       "<Figure size 432x288 with 1 Axes>"
      ]
     },
     "metadata": {
      "needs_background": "light"
     },
     "output_type": "display_data"
    }
   ],
   "source": [
    "plt.hist(data['run_time'])\n",
    "plt.ticklabel_format(style='scientific', scilimits=(0, 0), axis='x')\n",
    "plt.tick_params(labelsize=14)\n",
    "plt.xlabel('run time (s)', fontsize=14)\n",
    "plt.ylabel('count', fontsize=14)\n",
    "plt.tight_layout()\n",
    "plt.show()"
   ]
  }
 ],
 "metadata": {
  "kernelspec": {
   "display_name": "Python 3 (ipykernel)",
   "language": "python",
   "name": "python3"
  },
  "language_info": {
   "codemirror_mode": {
    "name": "ipython",
    "version": 3
   },
   "file_extension": ".py",
   "mimetype": "text/x-python",
   "name": "python",
   "nbconvert_exporter": "python",
   "pygments_lexer": "ipython3",
   "version": "3.10.2"
  }
 },
 "nbformat": 4,
 "nbformat_minor": 5
}
